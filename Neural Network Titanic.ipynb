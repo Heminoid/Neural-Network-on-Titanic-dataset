{
  "metadata": {
    "kaggle": {
      "accelerator": "none",
      "dataSources": [
        {
          "sourceId": 3136,
          "databundleVersionId": 26502,
          "sourceType": "competition"
        },
        {
          "sourceId": 164963095,
          "sourceType": "kernelVersion"
        }
      ],
      "dockerImageVersionId": 30665,
      "isInternetEnabled": true,
      "language": "python",
      "sourceType": "notebook",
      "isGpuEnabled": false
    },
    "kernelspec": {
      "display_name": "Python 3",
      "name": "python3"
    },
    "language_info": {
      "name": "python",
      "version": "3.10.13",
      "mimetype": "text/x-python",
      "codemirror_mode": {
        "name": "ipython",
        "version": 3
      },
      "pygments_lexer": "ipython3",
      "nbconvert_exporter": "python",
      "file_extension": ".py"
    },
    "colab": {
      "name": "Random Forest - 92% Accuracy🚀",
      "provenance": [],
      "gpuType": "T4"
    },
    "accelerator": "GPU"
  },
  "nbformat_minor": 0,
  "nbformat": 4,
  "cells": [
    {
      "cell_type": "code",
      "source": [
        "import pandas as pd\n",
        "import seaborn as sns\n",
        "import numpy as np\n",
        "import matplotlib.pyplot as plt\n",
        "import warnings\n",
        "warnings.filterwarnings('ignore')"
      ],
      "metadata": {
        "_cell_guid": "e43473b7-9faa-421a-a315-cd7248f39e3e",
        "_uuid": "e10844f8-fc64-4e72-bb7d-e7f3f297e359",
        "jupyter": {
          "outputs_hidden": false
        },
        "execution": {
          "iopub.status.busy": "2024-03-09T05:14:05.898423Z",
          "iopub.execute_input": "2024-03-09T05:14:05.899303Z",
          "iopub.status.idle": "2024-03-09T05:14:05.903887Z",
          "shell.execute_reply.started": "2024-03-09T05:14:05.899271Z",
          "shell.execute_reply": "2024-03-09T05:14:05.903041Z"
        },
        "trusted": true,
        "id": "hGwUd_-vfmLA"
      },
      "execution_count": 55,
      "outputs": []
    },
    {
      "cell_type": "markdown",
      "source": [
        "<h1 style=\"background-color: #583BE3; color: white; padding: 10px; text-align: center; border-radius: 8px; margin: 20px 0; font-family: 'Arial', sans-serif;\">2. Data Inspection</h1>"
      ],
      "metadata": {
        "id": "_KfnMOmBfmLB"
      }
    },
    {
      "cell_type": "code",
      "source": [
        "train_ds = pd.read_csv('/content/train.csv')\n",
        "test_ds = pd.read_csv('/content/test.csv')"
      ],
      "metadata": {
        "_cell_guid": "7776ef8a-ebd8-4579-a02f-46902fc58908",
        "_uuid": "ae3d7d87-ad30-40c9-acc5-594208a8c1bd",
        "jupyter": {
          "outputs_hidden": false
        },
        "execution": {
          "iopub.status.busy": "2024-03-09T05:14:05.906076Z",
          "iopub.execute_input": "2024-03-09T05:14:05.906897Z",
          "iopub.status.idle": "2024-03-09T05:14:05.925037Z",
          "shell.execute_reply.started": "2024-03-09T05:14:05.906863Z",
          "shell.execute_reply": "2024-03-09T05:14:05.92435Z"
        },
        "trusted": true,
        "id": "DhhNq9wwfmLB"
      },
      "execution_count": 56,
      "outputs": []
    },
    {
      "cell_type": "markdown",
      "source": [
        "## 2.1. Train"
      ],
      "metadata": {
        "id": "Sh8YkGbDfmLC"
      }
    },
    {
      "cell_type": "code",
      "source": [
        "train_ds.sample(5)"
      ],
      "metadata": {
        "_cell_guid": "f0233881-24b9-4700-80cc-1852709a5718",
        "_uuid": "03ef606c-3f35-4597-a9bd-080164e34213",
        "jupyter": {
          "outputs_hidden": false
        },
        "execution": {
          "iopub.status.busy": "2024-03-09T05:14:05.926175Z",
          "iopub.execute_input": "2024-03-09T05:14:05.92651Z",
          "iopub.status.idle": "2024-03-09T05:14:05.946779Z",
          "shell.execute_reply.started": "2024-03-09T05:14:05.926485Z",
          "shell.execute_reply": "2024-03-09T05:14:05.94584Z"
        },
        "trusted": true,
        "id": "TxjgrwWNfmLD",
        "outputId": "961835bd-b550-4fe9-f9b0-d8fcd1019dae",
        "colab": {
          "base_uri": "https://localhost:8080/",
          "height": 206
        }
      },
      "execution_count": 57,
      "outputs": [
        {
          "output_type": "execute_result",
          "data": {
            "text/plain": [
              "     PassengerId  Survived  Pclass                          Name     Sex  \\\n",
              "474          475         0       3   Strandberg, Miss. Ida Sofia  female   \n",
              "516          517         1       2  Lemore, Mrs. (Amelia Milley)  female   \n",
              "632          633         1       1     Stahelin-Maeglin, Dr. Max    male   \n",
              "563          564         0       3             Simmons, Mr. John    male   \n",
              "190          191         1       2           Pinsky, Mrs. (Rosa)  female   \n",
              "\n",
              "      Age  SibSp  Parch           Ticket     Fare Cabin Embarked  \n",
              "474  22.0      0      0             7553   9.8375   NaN        S  \n",
              "516  34.0      0      0       C.A. 34260  10.5000   F33        S  \n",
              "632  32.0      0      0            13214  30.5000   B50        C  \n",
              "563   NaN      0      0  SOTON/OQ 392082   8.0500   NaN        S  \n",
              "190  32.0      0      0           234604  13.0000   NaN        S  "
            ],
            "text/html": [
              "\n",
              "  <div id=\"df-30404fe6-c345-45ab-b1ee-cba6db682904\" class=\"colab-df-container\">\n",
              "    <div>\n",
              "<style scoped>\n",
              "    .dataframe tbody tr th:only-of-type {\n",
              "        vertical-align: middle;\n",
              "    }\n",
              "\n",
              "    .dataframe tbody tr th {\n",
              "        vertical-align: top;\n",
              "    }\n",
              "\n",
              "    .dataframe thead th {\n",
              "        text-align: right;\n",
              "    }\n",
              "</style>\n",
              "<table border=\"1\" class=\"dataframe\">\n",
              "  <thead>\n",
              "    <tr style=\"text-align: right;\">\n",
              "      <th></th>\n",
              "      <th>PassengerId</th>\n",
              "      <th>Survived</th>\n",
              "      <th>Pclass</th>\n",
              "      <th>Name</th>\n",
              "      <th>Sex</th>\n",
              "      <th>Age</th>\n",
              "      <th>SibSp</th>\n",
              "      <th>Parch</th>\n",
              "      <th>Ticket</th>\n",
              "      <th>Fare</th>\n",
              "      <th>Cabin</th>\n",
              "      <th>Embarked</th>\n",
              "    </tr>\n",
              "  </thead>\n",
              "  <tbody>\n",
              "    <tr>\n",
              "      <th>474</th>\n",
              "      <td>475</td>\n",
              "      <td>0</td>\n",
              "      <td>3</td>\n",
              "      <td>Strandberg, Miss. Ida Sofia</td>\n",
              "      <td>female</td>\n",
              "      <td>22.0</td>\n",
              "      <td>0</td>\n",
              "      <td>0</td>\n",
              "      <td>7553</td>\n",
              "      <td>9.8375</td>\n",
              "      <td>NaN</td>\n",
              "      <td>S</td>\n",
              "    </tr>\n",
              "    <tr>\n",
              "      <th>516</th>\n",
              "      <td>517</td>\n",
              "      <td>1</td>\n",
              "      <td>2</td>\n",
              "      <td>Lemore, Mrs. (Amelia Milley)</td>\n",
              "      <td>female</td>\n",
              "      <td>34.0</td>\n",
              "      <td>0</td>\n",
              "      <td>0</td>\n",
              "      <td>C.A. 34260</td>\n",
              "      <td>10.5000</td>\n",
              "      <td>F33</td>\n",
              "      <td>S</td>\n",
              "    </tr>\n",
              "    <tr>\n",
              "      <th>632</th>\n",
              "      <td>633</td>\n",
              "      <td>1</td>\n",
              "      <td>1</td>\n",
              "      <td>Stahelin-Maeglin, Dr. Max</td>\n",
              "      <td>male</td>\n",
              "      <td>32.0</td>\n",
              "      <td>0</td>\n",
              "      <td>0</td>\n",
              "      <td>13214</td>\n",
              "      <td>30.5000</td>\n",
              "      <td>B50</td>\n",
              "      <td>C</td>\n",
              "    </tr>\n",
              "    <tr>\n",
              "      <th>563</th>\n",
              "      <td>564</td>\n",
              "      <td>0</td>\n",
              "      <td>3</td>\n",
              "      <td>Simmons, Mr. John</td>\n",
              "      <td>male</td>\n",
              "      <td>NaN</td>\n",
              "      <td>0</td>\n",
              "      <td>0</td>\n",
              "      <td>SOTON/OQ 392082</td>\n",
              "      <td>8.0500</td>\n",
              "      <td>NaN</td>\n",
              "      <td>S</td>\n",
              "    </tr>\n",
              "    <tr>\n",
              "      <th>190</th>\n",
              "      <td>191</td>\n",
              "      <td>1</td>\n",
              "      <td>2</td>\n",
              "      <td>Pinsky, Mrs. (Rosa)</td>\n",
              "      <td>female</td>\n",
              "      <td>32.0</td>\n",
              "      <td>0</td>\n",
              "      <td>0</td>\n",
              "      <td>234604</td>\n",
              "      <td>13.0000</td>\n",
              "      <td>NaN</td>\n",
              "      <td>S</td>\n",
              "    </tr>\n",
              "  </tbody>\n",
              "</table>\n",
              "</div>\n",
              "    <div class=\"colab-df-buttons\">\n",
              "\n",
              "  <div class=\"colab-df-container\">\n",
              "    <button class=\"colab-df-convert\" onclick=\"convertToInteractive('df-30404fe6-c345-45ab-b1ee-cba6db682904')\"\n",
              "            title=\"Convert this dataframe to an interactive table.\"\n",
              "            style=\"display:none;\">\n",
              "\n",
              "  <svg xmlns=\"http://www.w3.org/2000/svg\" height=\"24px\" viewBox=\"0 -960 960 960\">\n",
              "    <path d=\"M120-120v-720h720v720H120Zm60-500h600v-160H180v160Zm220 220h160v-160H400v160Zm0 220h160v-160H400v160ZM180-400h160v-160H180v160Zm440 0h160v-160H620v160ZM180-180h160v-160H180v160Zm440 0h160v-160H620v160Z\"/>\n",
              "  </svg>\n",
              "    </button>\n",
              "\n",
              "  <style>\n",
              "    .colab-df-container {\n",
              "      display:flex;\n",
              "      gap: 12px;\n",
              "    }\n",
              "\n",
              "    .colab-df-convert {\n",
              "      background-color: #E8F0FE;\n",
              "      border: none;\n",
              "      border-radius: 50%;\n",
              "      cursor: pointer;\n",
              "      display: none;\n",
              "      fill: #1967D2;\n",
              "      height: 32px;\n",
              "      padding: 0 0 0 0;\n",
              "      width: 32px;\n",
              "    }\n",
              "\n",
              "    .colab-df-convert:hover {\n",
              "      background-color: #E2EBFA;\n",
              "      box-shadow: 0px 1px 2px rgba(60, 64, 67, 0.3), 0px 1px 3px 1px rgba(60, 64, 67, 0.15);\n",
              "      fill: #174EA6;\n",
              "    }\n",
              "\n",
              "    .colab-df-buttons div {\n",
              "      margin-bottom: 4px;\n",
              "    }\n",
              "\n",
              "    [theme=dark] .colab-df-convert {\n",
              "      background-color: #3B4455;\n",
              "      fill: #D2E3FC;\n",
              "    }\n",
              "\n",
              "    [theme=dark] .colab-df-convert:hover {\n",
              "      background-color: #434B5C;\n",
              "      box-shadow: 0px 1px 3px 1px rgba(0, 0, 0, 0.15);\n",
              "      filter: drop-shadow(0px 1px 2px rgba(0, 0, 0, 0.3));\n",
              "      fill: #FFFFFF;\n",
              "    }\n",
              "  </style>\n",
              "\n",
              "    <script>\n",
              "      const buttonEl =\n",
              "        document.querySelector('#df-30404fe6-c345-45ab-b1ee-cba6db682904 button.colab-df-convert');\n",
              "      buttonEl.style.display =\n",
              "        google.colab.kernel.accessAllowed ? 'block' : 'none';\n",
              "\n",
              "      async function convertToInteractive(key) {\n",
              "        const element = document.querySelector('#df-30404fe6-c345-45ab-b1ee-cba6db682904');\n",
              "        const dataTable =\n",
              "          await google.colab.kernel.invokeFunction('convertToInteractive',\n",
              "                                                    [key], {});\n",
              "        if (!dataTable) return;\n",
              "\n",
              "        const docLinkHtml = 'Like what you see? Visit the ' +\n",
              "          '<a target=\"_blank\" href=https://colab.research.google.com/notebooks/data_table.ipynb>data table notebook</a>'\n",
              "          + ' to learn more about interactive tables.';\n",
              "        element.innerHTML = '';\n",
              "        dataTable['output_type'] = 'display_data';\n",
              "        await google.colab.output.renderOutput(dataTable, element);\n",
              "        const docLink = document.createElement('div');\n",
              "        docLink.innerHTML = docLinkHtml;\n",
              "        element.appendChild(docLink);\n",
              "      }\n",
              "    </script>\n",
              "  </div>\n",
              "\n",
              "\n",
              "<div id=\"df-80109cf6-fdb4-458e-8504-09112666e905\">\n",
              "  <button class=\"colab-df-quickchart\" onclick=\"quickchart('df-80109cf6-fdb4-458e-8504-09112666e905')\"\n",
              "            title=\"Suggest charts\"\n",
              "            style=\"display:none;\">\n",
              "\n",
              "<svg xmlns=\"http://www.w3.org/2000/svg\" height=\"24px\"viewBox=\"0 0 24 24\"\n",
              "     width=\"24px\">\n",
              "    <g>\n",
              "        <path d=\"M19 3H5c-1.1 0-2 .9-2 2v14c0 1.1.9 2 2 2h14c1.1 0 2-.9 2-2V5c0-1.1-.9-2-2-2zM9 17H7v-7h2v7zm4 0h-2V7h2v10zm4 0h-2v-4h2v4z\"/>\n",
              "    </g>\n",
              "</svg>\n",
              "  </button>\n",
              "\n",
              "<style>\n",
              "  .colab-df-quickchart {\n",
              "      --bg-color: #E8F0FE;\n",
              "      --fill-color: #1967D2;\n",
              "      --hover-bg-color: #E2EBFA;\n",
              "      --hover-fill-color: #174EA6;\n",
              "      --disabled-fill-color: #AAA;\n",
              "      --disabled-bg-color: #DDD;\n",
              "  }\n",
              "\n",
              "  [theme=dark] .colab-df-quickchart {\n",
              "      --bg-color: #3B4455;\n",
              "      --fill-color: #D2E3FC;\n",
              "      --hover-bg-color: #434B5C;\n",
              "      --hover-fill-color: #FFFFFF;\n",
              "      --disabled-bg-color: #3B4455;\n",
              "      --disabled-fill-color: #666;\n",
              "  }\n",
              "\n",
              "  .colab-df-quickchart {\n",
              "    background-color: var(--bg-color);\n",
              "    border: none;\n",
              "    border-radius: 50%;\n",
              "    cursor: pointer;\n",
              "    display: none;\n",
              "    fill: var(--fill-color);\n",
              "    height: 32px;\n",
              "    padding: 0;\n",
              "    width: 32px;\n",
              "  }\n",
              "\n",
              "  .colab-df-quickchart:hover {\n",
              "    background-color: var(--hover-bg-color);\n",
              "    box-shadow: 0 1px 2px rgba(60, 64, 67, 0.3), 0 1px 3px 1px rgba(60, 64, 67, 0.15);\n",
              "    fill: var(--button-hover-fill-color);\n",
              "  }\n",
              "\n",
              "  .colab-df-quickchart-complete:disabled,\n",
              "  .colab-df-quickchart-complete:disabled:hover {\n",
              "    background-color: var(--disabled-bg-color);\n",
              "    fill: var(--disabled-fill-color);\n",
              "    box-shadow: none;\n",
              "  }\n",
              "\n",
              "  .colab-df-spinner {\n",
              "    border: 2px solid var(--fill-color);\n",
              "    border-color: transparent;\n",
              "    border-bottom-color: var(--fill-color);\n",
              "    animation:\n",
              "      spin 1s steps(1) infinite;\n",
              "  }\n",
              "\n",
              "  @keyframes spin {\n",
              "    0% {\n",
              "      border-color: transparent;\n",
              "      border-bottom-color: var(--fill-color);\n",
              "      border-left-color: var(--fill-color);\n",
              "    }\n",
              "    20% {\n",
              "      border-color: transparent;\n",
              "      border-left-color: var(--fill-color);\n",
              "      border-top-color: var(--fill-color);\n",
              "    }\n",
              "    30% {\n",
              "      border-color: transparent;\n",
              "      border-left-color: var(--fill-color);\n",
              "      border-top-color: var(--fill-color);\n",
              "      border-right-color: var(--fill-color);\n",
              "    }\n",
              "    40% {\n",
              "      border-color: transparent;\n",
              "      border-right-color: var(--fill-color);\n",
              "      border-top-color: var(--fill-color);\n",
              "    }\n",
              "    60% {\n",
              "      border-color: transparent;\n",
              "      border-right-color: var(--fill-color);\n",
              "    }\n",
              "    80% {\n",
              "      border-color: transparent;\n",
              "      border-right-color: var(--fill-color);\n",
              "      border-bottom-color: var(--fill-color);\n",
              "    }\n",
              "    90% {\n",
              "      border-color: transparent;\n",
              "      border-bottom-color: var(--fill-color);\n",
              "    }\n",
              "  }\n",
              "</style>\n",
              "\n",
              "  <script>\n",
              "    async function quickchart(key) {\n",
              "      const quickchartButtonEl =\n",
              "        document.querySelector('#' + key + ' button');\n",
              "      quickchartButtonEl.disabled = true;  // To prevent multiple clicks.\n",
              "      quickchartButtonEl.classList.add('colab-df-spinner');\n",
              "      try {\n",
              "        const charts = await google.colab.kernel.invokeFunction(\n",
              "            'suggestCharts', [key], {});\n",
              "      } catch (error) {\n",
              "        console.error('Error during call to suggestCharts:', error);\n",
              "      }\n",
              "      quickchartButtonEl.classList.remove('colab-df-spinner');\n",
              "      quickchartButtonEl.classList.add('colab-df-quickchart-complete');\n",
              "    }\n",
              "    (() => {\n",
              "      let quickchartButtonEl =\n",
              "        document.querySelector('#df-80109cf6-fdb4-458e-8504-09112666e905 button');\n",
              "      quickchartButtonEl.style.display =\n",
              "        google.colab.kernel.accessAllowed ? 'block' : 'none';\n",
              "    })();\n",
              "  </script>\n",
              "</div>\n",
              "\n",
              "    </div>\n",
              "  </div>\n"
            ],
            "application/vnd.google.colaboratory.intrinsic+json": {
              "type": "dataframe",
              "summary": "{\n  \"name\": \"train_ds\",\n  \"rows\": 5,\n  \"fields\": [\n    {\n      \"column\": \"PassengerId\",\n      \"properties\": {\n        \"dtype\": \"number\",\n        \"std\": 169,\n        \"min\": 191,\n        \"max\": 633,\n        \"num_unique_values\": 5,\n        \"samples\": [\n          517,\n          191,\n          633\n        ],\n        \"semantic_type\": \"\",\n        \"description\": \"\"\n      }\n    },\n    {\n      \"column\": \"Survived\",\n      \"properties\": {\n        \"dtype\": \"number\",\n        \"std\": 0,\n        \"min\": 0,\n        \"max\": 1,\n        \"num_unique_values\": 2,\n        \"samples\": [\n          1,\n          0\n        ],\n        \"semantic_type\": \"\",\n        \"description\": \"\"\n      }\n    },\n    {\n      \"column\": \"Pclass\",\n      \"properties\": {\n        \"dtype\": \"number\",\n        \"std\": 0,\n        \"min\": 1,\n        \"max\": 3,\n        \"num_unique_values\": 3,\n        \"samples\": [\n          3,\n          2\n        ],\n        \"semantic_type\": \"\",\n        \"description\": \"\"\n      }\n    },\n    {\n      \"column\": \"Name\",\n      \"properties\": {\n        \"dtype\": \"string\",\n        \"num_unique_values\": 5,\n        \"samples\": [\n          \"Lemore, Mrs. (Amelia Milley)\",\n          \"Pinsky, Mrs. (Rosa)\"\n        ],\n        \"semantic_type\": \"\",\n        \"description\": \"\"\n      }\n    },\n    {\n      \"column\": \"Sex\",\n      \"properties\": {\n        \"dtype\": \"category\",\n        \"num_unique_values\": 2,\n        \"samples\": [\n          \"male\",\n          \"female\"\n        ],\n        \"semantic_type\": \"\",\n        \"description\": \"\"\n      }\n    },\n    {\n      \"column\": \"Age\",\n      \"properties\": {\n        \"dtype\": \"number\",\n        \"std\": 5.41602560309064,\n        \"min\": 22.0,\n        \"max\": 34.0,\n        \"num_unique_values\": 3,\n        \"samples\": [\n          22.0,\n          34.0\n        ],\n        \"semantic_type\": \"\",\n        \"description\": \"\"\n      }\n    },\n    {\n      \"column\": \"SibSp\",\n      \"properties\": {\n        \"dtype\": \"number\",\n        \"std\": 0,\n        \"min\": 0,\n        \"max\": 0,\n        \"num_unique_values\": 1,\n        \"samples\": [\n          0\n        ],\n        \"semantic_type\": \"\",\n        \"description\": \"\"\n      }\n    },\n    {\n      \"column\": \"Parch\",\n      \"properties\": {\n        \"dtype\": \"number\",\n        \"std\": 0,\n        \"min\": 0,\n        \"max\": 0,\n        \"num_unique_values\": 1,\n        \"samples\": [\n          0\n        ],\n        \"semantic_type\": \"\",\n        \"description\": \"\"\n      }\n    },\n    {\n      \"column\": \"Ticket\",\n      \"properties\": {\n        \"dtype\": \"string\",\n        \"num_unique_values\": 5,\n        \"samples\": [\n          \"C.A. 34260\"\n        ],\n        \"semantic_type\": \"\",\n        \"description\": \"\"\n      }\n    },\n    {\n      \"column\": \"Fare\",\n      \"properties\": {\n        \"dtype\": \"number\",\n        \"std\": 9.185809368259282,\n        \"min\": 8.05,\n        \"max\": 30.5,\n        \"num_unique_values\": 5,\n        \"samples\": [\n          10.5\n        ],\n        \"semantic_type\": \"\",\n        \"description\": \"\"\n      }\n    },\n    {\n      \"column\": \"Cabin\",\n      \"properties\": {\n        \"dtype\": \"category\",\n        \"num_unique_values\": 2,\n        \"samples\": [\n          \"B50\"\n        ],\n        \"semantic_type\": \"\",\n        \"description\": \"\"\n      }\n    },\n    {\n      \"column\": \"Embarked\",\n      \"properties\": {\n        \"dtype\": \"category\",\n        \"num_unique_values\": 2,\n        \"samples\": [\n          \"C\"\n        ],\n        \"semantic_type\": \"\",\n        \"description\": \"\"\n      }\n    }\n  ]\n}"
            }
          },
          "metadata": {},
          "execution_count": 57
        }
      ]
    },
    {
      "cell_type": "markdown",
      "source": [
        "## 2.2. Test"
      ],
      "metadata": {
        "id": "m50u3NDyfmLE"
      }
    },
    {
      "cell_type": "code",
      "source": [
        "test_ds.sample(5)"
      ],
      "metadata": {
        "_cell_guid": "2a1da717-cb52-49ce-969c-a3baeb61a433",
        "_uuid": "48304c04-7110-40e0-936d-8a81fff6f8ec",
        "jupyter": {
          "outputs_hidden": false
        },
        "execution": {
          "iopub.status.busy": "2024-03-09T05:14:05.947736Z",
          "iopub.execute_input": "2024-03-09T05:14:05.948039Z",
          "iopub.status.idle": "2024-03-09T05:14:05.964927Z",
          "shell.execute_reply.started": "2024-03-09T05:14:05.948015Z",
          "shell.execute_reply": "2024-03-09T05:14:05.963914Z"
        },
        "trusted": true,
        "id": "AkDER-i6fmLE",
        "outputId": "dfedd496-d7a9-497c-bc43-53f4fb41dd0b",
        "colab": {
          "base_uri": "https://localhost:8080/",
          "height": 206
        }
      },
      "execution_count": 58,
      "outputs": [
        {
          "output_type": "execute_result",
          "data": {
            "text/plain": [
              "     PassengerId  Pclass                                   Name     Sex   Age  \\\n",
              "374         1266       1  Dodge, Mrs. Washington (Ruth Vidaver)  female  54.0   \n",
              "81           973       1                     Straus, Mr. Isidor    male  67.0   \n",
              "256         1148       3                        Mahon, Mr. John    male   NaN   \n",
              "202         1094       1                 Astor, Col. John Jacob    male  47.0   \n",
              "155         1047       3                   Duquemin, Mr. Joseph    male  24.0   \n",
              "\n",
              "     SibSp  Parch         Ticket      Fare    Cabin Embarked  \n",
              "374      1      1          33638   81.8583      A34        S  \n",
              "81       1      0       PC 17483  221.7792  C55 C57        S  \n",
              "256      0      0      AQ/4 3130    7.7500      NaN        Q  \n",
              "202      1      0       PC 17757  227.5250  C62 C64        C  \n",
              "155      0      0  S.O./P.P. 752    7.5500      NaN        S  "
            ],
            "text/html": [
              "\n",
              "  <div id=\"df-b8a4f307-4d9b-491a-8018-f30a23f01fa4\" class=\"colab-df-container\">\n",
              "    <div>\n",
              "<style scoped>\n",
              "    .dataframe tbody tr th:only-of-type {\n",
              "        vertical-align: middle;\n",
              "    }\n",
              "\n",
              "    .dataframe tbody tr th {\n",
              "        vertical-align: top;\n",
              "    }\n",
              "\n",
              "    .dataframe thead th {\n",
              "        text-align: right;\n",
              "    }\n",
              "</style>\n",
              "<table border=\"1\" class=\"dataframe\">\n",
              "  <thead>\n",
              "    <tr style=\"text-align: right;\">\n",
              "      <th></th>\n",
              "      <th>PassengerId</th>\n",
              "      <th>Pclass</th>\n",
              "      <th>Name</th>\n",
              "      <th>Sex</th>\n",
              "      <th>Age</th>\n",
              "      <th>SibSp</th>\n",
              "      <th>Parch</th>\n",
              "      <th>Ticket</th>\n",
              "      <th>Fare</th>\n",
              "      <th>Cabin</th>\n",
              "      <th>Embarked</th>\n",
              "    </tr>\n",
              "  </thead>\n",
              "  <tbody>\n",
              "    <tr>\n",
              "      <th>374</th>\n",
              "      <td>1266</td>\n",
              "      <td>1</td>\n",
              "      <td>Dodge, Mrs. Washington (Ruth Vidaver)</td>\n",
              "      <td>female</td>\n",
              "      <td>54.0</td>\n",
              "      <td>1</td>\n",
              "      <td>1</td>\n",
              "      <td>33638</td>\n",
              "      <td>81.8583</td>\n",
              "      <td>A34</td>\n",
              "      <td>S</td>\n",
              "    </tr>\n",
              "    <tr>\n",
              "      <th>81</th>\n",
              "      <td>973</td>\n",
              "      <td>1</td>\n",
              "      <td>Straus, Mr. Isidor</td>\n",
              "      <td>male</td>\n",
              "      <td>67.0</td>\n",
              "      <td>1</td>\n",
              "      <td>0</td>\n",
              "      <td>PC 17483</td>\n",
              "      <td>221.7792</td>\n",
              "      <td>C55 C57</td>\n",
              "      <td>S</td>\n",
              "    </tr>\n",
              "    <tr>\n",
              "      <th>256</th>\n",
              "      <td>1148</td>\n",
              "      <td>3</td>\n",
              "      <td>Mahon, Mr. John</td>\n",
              "      <td>male</td>\n",
              "      <td>NaN</td>\n",
              "      <td>0</td>\n",
              "      <td>0</td>\n",
              "      <td>AQ/4 3130</td>\n",
              "      <td>7.7500</td>\n",
              "      <td>NaN</td>\n",
              "      <td>Q</td>\n",
              "    </tr>\n",
              "    <tr>\n",
              "      <th>202</th>\n",
              "      <td>1094</td>\n",
              "      <td>1</td>\n",
              "      <td>Astor, Col. John Jacob</td>\n",
              "      <td>male</td>\n",
              "      <td>47.0</td>\n",
              "      <td>1</td>\n",
              "      <td>0</td>\n",
              "      <td>PC 17757</td>\n",
              "      <td>227.5250</td>\n",
              "      <td>C62 C64</td>\n",
              "      <td>C</td>\n",
              "    </tr>\n",
              "    <tr>\n",
              "      <th>155</th>\n",
              "      <td>1047</td>\n",
              "      <td>3</td>\n",
              "      <td>Duquemin, Mr. Joseph</td>\n",
              "      <td>male</td>\n",
              "      <td>24.0</td>\n",
              "      <td>0</td>\n",
              "      <td>0</td>\n",
              "      <td>S.O./P.P. 752</td>\n",
              "      <td>7.5500</td>\n",
              "      <td>NaN</td>\n",
              "      <td>S</td>\n",
              "    </tr>\n",
              "  </tbody>\n",
              "</table>\n",
              "</div>\n",
              "    <div class=\"colab-df-buttons\">\n",
              "\n",
              "  <div class=\"colab-df-container\">\n",
              "    <button class=\"colab-df-convert\" onclick=\"convertToInteractive('df-b8a4f307-4d9b-491a-8018-f30a23f01fa4')\"\n",
              "            title=\"Convert this dataframe to an interactive table.\"\n",
              "            style=\"display:none;\">\n",
              "\n",
              "  <svg xmlns=\"http://www.w3.org/2000/svg\" height=\"24px\" viewBox=\"0 -960 960 960\">\n",
              "    <path d=\"M120-120v-720h720v720H120Zm60-500h600v-160H180v160Zm220 220h160v-160H400v160Zm0 220h160v-160H400v160ZM180-400h160v-160H180v160Zm440 0h160v-160H620v160ZM180-180h160v-160H180v160Zm440 0h160v-160H620v160Z\"/>\n",
              "  </svg>\n",
              "    </button>\n",
              "\n",
              "  <style>\n",
              "    .colab-df-container {\n",
              "      display:flex;\n",
              "      gap: 12px;\n",
              "    }\n",
              "\n",
              "    .colab-df-convert {\n",
              "      background-color: #E8F0FE;\n",
              "      border: none;\n",
              "      border-radius: 50%;\n",
              "      cursor: pointer;\n",
              "      display: none;\n",
              "      fill: #1967D2;\n",
              "      height: 32px;\n",
              "      padding: 0 0 0 0;\n",
              "      width: 32px;\n",
              "    }\n",
              "\n",
              "    .colab-df-convert:hover {\n",
              "      background-color: #E2EBFA;\n",
              "      box-shadow: 0px 1px 2px rgba(60, 64, 67, 0.3), 0px 1px 3px 1px rgba(60, 64, 67, 0.15);\n",
              "      fill: #174EA6;\n",
              "    }\n",
              "\n",
              "    .colab-df-buttons div {\n",
              "      margin-bottom: 4px;\n",
              "    }\n",
              "\n",
              "    [theme=dark] .colab-df-convert {\n",
              "      background-color: #3B4455;\n",
              "      fill: #D2E3FC;\n",
              "    }\n",
              "\n",
              "    [theme=dark] .colab-df-convert:hover {\n",
              "      background-color: #434B5C;\n",
              "      box-shadow: 0px 1px 3px 1px rgba(0, 0, 0, 0.15);\n",
              "      filter: drop-shadow(0px 1px 2px rgba(0, 0, 0, 0.3));\n",
              "      fill: #FFFFFF;\n",
              "    }\n",
              "  </style>\n",
              "\n",
              "    <script>\n",
              "      const buttonEl =\n",
              "        document.querySelector('#df-b8a4f307-4d9b-491a-8018-f30a23f01fa4 button.colab-df-convert');\n",
              "      buttonEl.style.display =\n",
              "        google.colab.kernel.accessAllowed ? 'block' : 'none';\n",
              "\n",
              "      async function convertToInteractive(key) {\n",
              "        const element = document.querySelector('#df-b8a4f307-4d9b-491a-8018-f30a23f01fa4');\n",
              "        const dataTable =\n",
              "          await google.colab.kernel.invokeFunction('convertToInteractive',\n",
              "                                                    [key], {});\n",
              "        if (!dataTable) return;\n",
              "\n",
              "        const docLinkHtml = 'Like what you see? Visit the ' +\n",
              "          '<a target=\"_blank\" href=https://colab.research.google.com/notebooks/data_table.ipynb>data table notebook</a>'\n",
              "          + ' to learn more about interactive tables.';\n",
              "        element.innerHTML = '';\n",
              "        dataTable['output_type'] = 'display_data';\n",
              "        await google.colab.output.renderOutput(dataTable, element);\n",
              "        const docLink = document.createElement('div');\n",
              "        docLink.innerHTML = docLinkHtml;\n",
              "        element.appendChild(docLink);\n",
              "      }\n",
              "    </script>\n",
              "  </div>\n",
              "\n",
              "\n",
              "<div id=\"df-5983d712-e09b-486a-8ca6-285e50cab0fe\">\n",
              "  <button class=\"colab-df-quickchart\" onclick=\"quickchart('df-5983d712-e09b-486a-8ca6-285e50cab0fe')\"\n",
              "            title=\"Suggest charts\"\n",
              "            style=\"display:none;\">\n",
              "\n",
              "<svg xmlns=\"http://www.w3.org/2000/svg\" height=\"24px\"viewBox=\"0 0 24 24\"\n",
              "     width=\"24px\">\n",
              "    <g>\n",
              "        <path d=\"M19 3H5c-1.1 0-2 .9-2 2v14c0 1.1.9 2 2 2h14c1.1 0 2-.9 2-2V5c0-1.1-.9-2-2-2zM9 17H7v-7h2v7zm4 0h-2V7h2v10zm4 0h-2v-4h2v4z\"/>\n",
              "    </g>\n",
              "</svg>\n",
              "  </button>\n",
              "\n",
              "<style>\n",
              "  .colab-df-quickchart {\n",
              "      --bg-color: #E8F0FE;\n",
              "      --fill-color: #1967D2;\n",
              "      --hover-bg-color: #E2EBFA;\n",
              "      --hover-fill-color: #174EA6;\n",
              "      --disabled-fill-color: #AAA;\n",
              "      --disabled-bg-color: #DDD;\n",
              "  }\n",
              "\n",
              "  [theme=dark] .colab-df-quickchart {\n",
              "      --bg-color: #3B4455;\n",
              "      --fill-color: #D2E3FC;\n",
              "      --hover-bg-color: #434B5C;\n",
              "      --hover-fill-color: #FFFFFF;\n",
              "      --disabled-bg-color: #3B4455;\n",
              "      --disabled-fill-color: #666;\n",
              "  }\n",
              "\n",
              "  .colab-df-quickchart {\n",
              "    background-color: var(--bg-color);\n",
              "    border: none;\n",
              "    border-radius: 50%;\n",
              "    cursor: pointer;\n",
              "    display: none;\n",
              "    fill: var(--fill-color);\n",
              "    height: 32px;\n",
              "    padding: 0;\n",
              "    width: 32px;\n",
              "  }\n",
              "\n",
              "  .colab-df-quickchart:hover {\n",
              "    background-color: var(--hover-bg-color);\n",
              "    box-shadow: 0 1px 2px rgba(60, 64, 67, 0.3), 0 1px 3px 1px rgba(60, 64, 67, 0.15);\n",
              "    fill: var(--button-hover-fill-color);\n",
              "  }\n",
              "\n",
              "  .colab-df-quickchart-complete:disabled,\n",
              "  .colab-df-quickchart-complete:disabled:hover {\n",
              "    background-color: var(--disabled-bg-color);\n",
              "    fill: var(--disabled-fill-color);\n",
              "    box-shadow: none;\n",
              "  }\n",
              "\n",
              "  .colab-df-spinner {\n",
              "    border: 2px solid var(--fill-color);\n",
              "    border-color: transparent;\n",
              "    border-bottom-color: var(--fill-color);\n",
              "    animation:\n",
              "      spin 1s steps(1) infinite;\n",
              "  }\n",
              "\n",
              "  @keyframes spin {\n",
              "    0% {\n",
              "      border-color: transparent;\n",
              "      border-bottom-color: var(--fill-color);\n",
              "      border-left-color: var(--fill-color);\n",
              "    }\n",
              "    20% {\n",
              "      border-color: transparent;\n",
              "      border-left-color: var(--fill-color);\n",
              "      border-top-color: var(--fill-color);\n",
              "    }\n",
              "    30% {\n",
              "      border-color: transparent;\n",
              "      border-left-color: var(--fill-color);\n",
              "      border-top-color: var(--fill-color);\n",
              "      border-right-color: var(--fill-color);\n",
              "    }\n",
              "    40% {\n",
              "      border-color: transparent;\n",
              "      border-right-color: var(--fill-color);\n",
              "      border-top-color: var(--fill-color);\n",
              "    }\n",
              "    60% {\n",
              "      border-color: transparent;\n",
              "      border-right-color: var(--fill-color);\n",
              "    }\n",
              "    80% {\n",
              "      border-color: transparent;\n",
              "      border-right-color: var(--fill-color);\n",
              "      border-bottom-color: var(--fill-color);\n",
              "    }\n",
              "    90% {\n",
              "      border-color: transparent;\n",
              "      border-bottom-color: var(--fill-color);\n",
              "    }\n",
              "  }\n",
              "</style>\n",
              "\n",
              "  <script>\n",
              "    async function quickchart(key) {\n",
              "      const quickchartButtonEl =\n",
              "        document.querySelector('#' + key + ' button');\n",
              "      quickchartButtonEl.disabled = true;  // To prevent multiple clicks.\n",
              "      quickchartButtonEl.classList.add('colab-df-spinner');\n",
              "      try {\n",
              "        const charts = await google.colab.kernel.invokeFunction(\n",
              "            'suggestCharts', [key], {});\n",
              "      } catch (error) {\n",
              "        console.error('Error during call to suggestCharts:', error);\n",
              "      }\n",
              "      quickchartButtonEl.classList.remove('colab-df-spinner');\n",
              "      quickchartButtonEl.classList.add('colab-df-quickchart-complete');\n",
              "    }\n",
              "    (() => {\n",
              "      let quickchartButtonEl =\n",
              "        document.querySelector('#df-5983d712-e09b-486a-8ca6-285e50cab0fe button');\n",
              "      quickchartButtonEl.style.display =\n",
              "        google.colab.kernel.accessAllowed ? 'block' : 'none';\n",
              "    })();\n",
              "  </script>\n",
              "</div>\n",
              "\n",
              "    </div>\n",
              "  </div>\n"
            ],
            "application/vnd.google.colaboratory.intrinsic+json": {
              "type": "dataframe",
              "summary": "{\n  \"name\": \"test_ds\",\n  \"rows\": 5,\n  \"fields\": [\n    {\n      \"column\": \"PassengerId\",\n      \"properties\": {\n        \"dtype\": \"number\",\n        \"std\": 110,\n        \"min\": 973,\n        \"max\": 1266,\n        \"num_unique_values\": 5,\n        \"samples\": [\n          973,\n          1047,\n          1148\n        ],\n        \"semantic_type\": \"\",\n        \"description\": \"\"\n      }\n    },\n    {\n      \"column\": \"Pclass\",\n      \"properties\": {\n        \"dtype\": \"number\",\n        \"std\": 1,\n        \"min\": 1,\n        \"max\": 3,\n        \"num_unique_values\": 2,\n        \"samples\": [\n          3,\n          1\n        ],\n        \"semantic_type\": \"\",\n        \"description\": \"\"\n      }\n    },\n    {\n      \"column\": \"Name\",\n      \"properties\": {\n        \"dtype\": \"string\",\n        \"num_unique_values\": 5,\n        \"samples\": [\n          \"Straus, Mr. Isidor\",\n          \"Duquemin, Mr. Joseph\"\n        ],\n        \"semantic_type\": \"\",\n        \"description\": \"\"\n      }\n    },\n    {\n      \"column\": \"Sex\",\n      \"properties\": {\n        \"dtype\": \"category\",\n        \"num_unique_values\": 2,\n        \"samples\": [\n          \"male\",\n          \"female\"\n        ],\n        \"semantic_type\": \"\",\n        \"description\": \"\"\n      }\n    },\n    {\n      \"column\": \"Age\",\n      \"properties\": {\n        \"dtype\": \"number\",\n        \"std\": 18.01850900231944,\n        \"min\": 24.0,\n        \"max\": 67.0,\n        \"num_unique_values\": 4,\n        \"samples\": [\n          67.0,\n          24.0\n        ],\n        \"semantic_type\": \"\",\n        \"description\": \"\"\n      }\n    },\n    {\n      \"column\": \"SibSp\",\n      \"properties\": {\n        \"dtype\": \"number\",\n        \"std\": 0,\n        \"min\": 0,\n        \"max\": 1,\n        \"num_unique_values\": 2,\n        \"samples\": [\n          0,\n          1\n        ],\n        \"semantic_type\": \"\",\n        \"description\": \"\"\n      }\n    },\n    {\n      \"column\": \"Parch\",\n      \"properties\": {\n        \"dtype\": \"number\",\n        \"std\": 0,\n        \"min\": 0,\n        \"max\": 1,\n        \"num_unique_values\": 2,\n        \"samples\": [\n          0,\n          1\n        ],\n        \"semantic_type\": \"\",\n        \"description\": \"\"\n      }\n    },\n    {\n      \"column\": \"Ticket\",\n      \"properties\": {\n        \"dtype\": \"string\",\n        \"num_unique_values\": 5,\n        \"samples\": [\n          \"PC 17483\",\n          \"S.O./P.P. 752\"\n        ],\n        \"semantic_type\": \"\",\n        \"description\": \"\"\n      }\n    },\n    {\n      \"column\": \"Fare\",\n      \"properties\": {\n        \"dtype\": \"number\",\n        \"std\": 109.59839491899506,\n        \"min\": 7.55,\n        \"max\": 227.525,\n        \"num_unique_values\": 5,\n        \"samples\": [\n          221.7792,\n          7.55\n        ],\n        \"semantic_type\": \"\",\n        \"description\": \"\"\n      }\n    },\n    {\n      \"column\": \"Cabin\",\n      \"properties\": {\n        \"dtype\": \"string\",\n        \"num_unique_values\": 3,\n        \"samples\": [\n          \"A34\",\n          \"C55 C57\"\n        ],\n        \"semantic_type\": \"\",\n        \"description\": \"\"\n      }\n    },\n    {\n      \"column\": \"Embarked\",\n      \"properties\": {\n        \"dtype\": \"string\",\n        \"num_unique_values\": 3,\n        \"samples\": [\n          \"S\",\n          \"Q\"\n        ],\n        \"semantic_type\": \"\",\n        \"description\": \"\"\n      }\n    }\n  ]\n}"
            }
          },
          "metadata": {},
          "execution_count": 58
        }
      ]
    },
    {
      "cell_type": "code",
      "source": [
        "train_ds.info()"
      ],
      "metadata": {
        "execution": {
          "iopub.status.busy": "2024-03-09T05:14:05.967598Z",
          "iopub.execute_input": "2024-03-09T05:14:05.967886Z",
          "iopub.status.idle": "2024-03-09T05:14:05.980036Z",
          "shell.execute_reply.started": "2024-03-09T05:14:05.967862Z",
          "shell.execute_reply": "2024-03-09T05:14:05.979113Z"
        },
        "trusted": true,
        "id": "dMz7MbSjfmLF",
        "outputId": "7e229e1b-df02-4816-e274-d9ef54f51f5f",
        "colab": {
          "base_uri": "https://localhost:8080/"
        }
      },
      "execution_count": 59,
      "outputs": [
        {
          "output_type": "stream",
          "name": "stdout",
          "text": [
            "<class 'pandas.core.frame.DataFrame'>\n",
            "RangeIndex: 891 entries, 0 to 890\n",
            "Data columns (total 12 columns):\n",
            " #   Column       Non-Null Count  Dtype  \n",
            "---  ------       --------------  -----  \n",
            " 0   PassengerId  891 non-null    int64  \n",
            " 1   Survived     891 non-null    int64  \n",
            " 2   Pclass       891 non-null    int64  \n",
            " 3   Name         891 non-null    object \n",
            " 4   Sex          891 non-null    object \n",
            " 5   Age          714 non-null    float64\n",
            " 6   SibSp        891 non-null    int64  \n",
            " 7   Parch        891 non-null    int64  \n",
            " 8   Ticket       891 non-null    object \n",
            " 9   Fare         891 non-null    float64\n",
            " 10  Cabin        204 non-null    object \n",
            " 11  Embarked     889 non-null    object \n",
            "dtypes: float64(2), int64(5), object(5)\n",
            "memory usage: 83.7+ KB\n"
          ]
        }
      ]
    },
    {
      "cell_type": "markdown",
      "source": [
        "## 2.3. Observation - Summary Information\n",
        "- The train dataset contains a total of **12 columns**, of which there are **7 numerical columns** (`PassengerId`, `Survived`, `Pclass`, `Age`, `SibSp`, `Parch`, `Fare`) and **5 categorical columns** (`Name`, `Sex`, `Ticket`, `Cabin`, `Embarked`).\n",
        "\n",
        "- The shape of the `train_ds` DataFrame is **891 rows** and **12 columns**, indicating that there are 891 entries, each with 12 attributes."
      ],
      "metadata": {
        "id": "E88cguvjfmLG"
      }
    },
    {
      "cell_type": "code",
      "source": [
        "train_ds.describe()"
      ],
      "metadata": {
        "execution": {
          "iopub.status.busy": "2024-03-09T05:14:05.981339Z",
          "iopub.execute_input": "2024-03-09T05:14:05.981961Z",
          "iopub.status.idle": "2024-03-09T05:14:06.013606Z",
          "shell.execute_reply.started": "2024-03-09T05:14:05.981926Z",
          "shell.execute_reply": "2024-03-09T05:14:06.01275Z"
        },
        "trusted": true,
        "id": "-wUfXiKGfmLG",
        "outputId": "5cd30842-c4ae-4c79-afda-90eda9d10fda",
        "colab": {
          "base_uri": "https://localhost:8080/",
          "height": 300
        }
      },
      "execution_count": 60,
      "outputs": [
        {
          "output_type": "execute_result",
          "data": {
            "text/plain": [
              "       PassengerId    Survived      Pclass         Age       SibSp  \\\n",
              "count   891.000000  891.000000  891.000000  714.000000  891.000000   \n",
              "mean    446.000000    0.383838    2.308642   29.699118    0.523008   \n",
              "std     257.353842    0.486592    0.836071   14.526497    1.102743   \n",
              "min       1.000000    0.000000    1.000000    0.420000    0.000000   \n",
              "25%     223.500000    0.000000    2.000000   20.125000    0.000000   \n",
              "50%     446.000000    0.000000    3.000000   28.000000    0.000000   \n",
              "75%     668.500000    1.000000    3.000000   38.000000    1.000000   \n",
              "max     891.000000    1.000000    3.000000   80.000000    8.000000   \n",
              "\n",
              "            Parch        Fare  \n",
              "count  891.000000  891.000000  \n",
              "mean     0.381594   32.204208  \n",
              "std      0.806057   49.693429  \n",
              "min      0.000000    0.000000  \n",
              "25%      0.000000    7.910400  \n",
              "50%      0.000000   14.454200  \n",
              "75%      0.000000   31.000000  \n",
              "max      6.000000  512.329200  "
            ],
            "text/html": [
              "\n",
              "  <div id=\"df-c1ef550f-3477-4217-87a0-a389ca1983f0\" class=\"colab-df-container\">\n",
              "    <div>\n",
              "<style scoped>\n",
              "    .dataframe tbody tr th:only-of-type {\n",
              "        vertical-align: middle;\n",
              "    }\n",
              "\n",
              "    .dataframe tbody tr th {\n",
              "        vertical-align: top;\n",
              "    }\n",
              "\n",
              "    .dataframe thead th {\n",
              "        text-align: right;\n",
              "    }\n",
              "</style>\n",
              "<table border=\"1\" class=\"dataframe\">\n",
              "  <thead>\n",
              "    <tr style=\"text-align: right;\">\n",
              "      <th></th>\n",
              "      <th>PassengerId</th>\n",
              "      <th>Survived</th>\n",
              "      <th>Pclass</th>\n",
              "      <th>Age</th>\n",
              "      <th>SibSp</th>\n",
              "      <th>Parch</th>\n",
              "      <th>Fare</th>\n",
              "    </tr>\n",
              "  </thead>\n",
              "  <tbody>\n",
              "    <tr>\n",
              "      <th>count</th>\n",
              "      <td>891.000000</td>\n",
              "      <td>891.000000</td>\n",
              "      <td>891.000000</td>\n",
              "      <td>714.000000</td>\n",
              "      <td>891.000000</td>\n",
              "      <td>891.000000</td>\n",
              "      <td>891.000000</td>\n",
              "    </tr>\n",
              "    <tr>\n",
              "      <th>mean</th>\n",
              "      <td>446.000000</td>\n",
              "      <td>0.383838</td>\n",
              "      <td>2.308642</td>\n",
              "      <td>29.699118</td>\n",
              "      <td>0.523008</td>\n",
              "      <td>0.381594</td>\n",
              "      <td>32.204208</td>\n",
              "    </tr>\n",
              "    <tr>\n",
              "      <th>std</th>\n",
              "      <td>257.353842</td>\n",
              "      <td>0.486592</td>\n",
              "      <td>0.836071</td>\n",
              "      <td>14.526497</td>\n",
              "      <td>1.102743</td>\n",
              "      <td>0.806057</td>\n",
              "      <td>49.693429</td>\n",
              "    </tr>\n",
              "    <tr>\n",
              "      <th>min</th>\n",
              "      <td>1.000000</td>\n",
              "      <td>0.000000</td>\n",
              "      <td>1.000000</td>\n",
              "      <td>0.420000</td>\n",
              "      <td>0.000000</td>\n",
              "      <td>0.000000</td>\n",
              "      <td>0.000000</td>\n",
              "    </tr>\n",
              "    <tr>\n",
              "      <th>25%</th>\n",
              "      <td>223.500000</td>\n",
              "      <td>0.000000</td>\n",
              "      <td>2.000000</td>\n",
              "      <td>20.125000</td>\n",
              "      <td>0.000000</td>\n",
              "      <td>0.000000</td>\n",
              "      <td>7.910400</td>\n",
              "    </tr>\n",
              "    <tr>\n",
              "      <th>50%</th>\n",
              "      <td>446.000000</td>\n",
              "      <td>0.000000</td>\n",
              "      <td>3.000000</td>\n",
              "      <td>28.000000</td>\n",
              "      <td>0.000000</td>\n",
              "      <td>0.000000</td>\n",
              "      <td>14.454200</td>\n",
              "    </tr>\n",
              "    <tr>\n",
              "      <th>75%</th>\n",
              "      <td>668.500000</td>\n",
              "      <td>1.000000</td>\n",
              "      <td>3.000000</td>\n",
              "      <td>38.000000</td>\n",
              "      <td>1.000000</td>\n",
              "      <td>0.000000</td>\n",
              "      <td>31.000000</td>\n",
              "    </tr>\n",
              "    <tr>\n",
              "      <th>max</th>\n",
              "      <td>891.000000</td>\n",
              "      <td>1.000000</td>\n",
              "      <td>3.000000</td>\n",
              "      <td>80.000000</td>\n",
              "      <td>8.000000</td>\n",
              "      <td>6.000000</td>\n",
              "      <td>512.329200</td>\n",
              "    </tr>\n",
              "  </tbody>\n",
              "</table>\n",
              "</div>\n",
              "    <div class=\"colab-df-buttons\">\n",
              "\n",
              "  <div class=\"colab-df-container\">\n",
              "    <button class=\"colab-df-convert\" onclick=\"convertToInteractive('df-c1ef550f-3477-4217-87a0-a389ca1983f0')\"\n",
              "            title=\"Convert this dataframe to an interactive table.\"\n",
              "            style=\"display:none;\">\n",
              "\n",
              "  <svg xmlns=\"http://www.w3.org/2000/svg\" height=\"24px\" viewBox=\"0 -960 960 960\">\n",
              "    <path d=\"M120-120v-720h720v720H120Zm60-500h600v-160H180v160Zm220 220h160v-160H400v160Zm0 220h160v-160H400v160ZM180-400h160v-160H180v160Zm440 0h160v-160H620v160ZM180-180h160v-160H180v160Zm440 0h160v-160H620v160Z\"/>\n",
              "  </svg>\n",
              "    </button>\n",
              "\n",
              "  <style>\n",
              "    .colab-df-container {\n",
              "      display:flex;\n",
              "      gap: 12px;\n",
              "    }\n",
              "\n",
              "    .colab-df-convert {\n",
              "      background-color: #E8F0FE;\n",
              "      border: none;\n",
              "      border-radius: 50%;\n",
              "      cursor: pointer;\n",
              "      display: none;\n",
              "      fill: #1967D2;\n",
              "      height: 32px;\n",
              "      padding: 0 0 0 0;\n",
              "      width: 32px;\n",
              "    }\n",
              "\n",
              "    .colab-df-convert:hover {\n",
              "      background-color: #E2EBFA;\n",
              "      box-shadow: 0px 1px 2px rgba(60, 64, 67, 0.3), 0px 1px 3px 1px rgba(60, 64, 67, 0.15);\n",
              "      fill: #174EA6;\n",
              "    }\n",
              "\n",
              "    .colab-df-buttons div {\n",
              "      margin-bottom: 4px;\n",
              "    }\n",
              "\n",
              "    [theme=dark] .colab-df-convert {\n",
              "      background-color: #3B4455;\n",
              "      fill: #D2E3FC;\n",
              "    }\n",
              "\n",
              "    [theme=dark] .colab-df-convert:hover {\n",
              "      background-color: #434B5C;\n",
              "      box-shadow: 0px 1px 3px 1px rgba(0, 0, 0, 0.15);\n",
              "      filter: drop-shadow(0px 1px 2px rgba(0, 0, 0, 0.3));\n",
              "      fill: #FFFFFF;\n",
              "    }\n",
              "  </style>\n",
              "\n",
              "    <script>\n",
              "      const buttonEl =\n",
              "        document.querySelector('#df-c1ef550f-3477-4217-87a0-a389ca1983f0 button.colab-df-convert');\n",
              "      buttonEl.style.display =\n",
              "        google.colab.kernel.accessAllowed ? 'block' : 'none';\n",
              "\n",
              "      async function convertToInteractive(key) {\n",
              "        const element = document.querySelector('#df-c1ef550f-3477-4217-87a0-a389ca1983f0');\n",
              "        const dataTable =\n",
              "          await google.colab.kernel.invokeFunction('convertToInteractive',\n",
              "                                                    [key], {});\n",
              "        if (!dataTable) return;\n",
              "\n",
              "        const docLinkHtml = 'Like what you see? Visit the ' +\n",
              "          '<a target=\"_blank\" href=https://colab.research.google.com/notebooks/data_table.ipynb>data table notebook</a>'\n",
              "          + ' to learn more about interactive tables.';\n",
              "        element.innerHTML = '';\n",
              "        dataTable['output_type'] = 'display_data';\n",
              "        await google.colab.output.renderOutput(dataTable, element);\n",
              "        const docLink = document.createElement('div');\n",
              "        docLink.innerHTML = docLinkHtml;\n",
              "        element.appendChild(docLink);\n",
              "      }\n",
              "    </script>\n",
              "  </div>\n",
              "\n",
              "\n",
              "<div id=\"df-38e99b77-73a3-4f5e-bea1-2f999633f300\">\n",
              "  <button class=\"colab-df-quickchart\" onclick=\"quickchart('df-38e99b77-73a3-4f5e-bea1-2f999633f300')\"\n",
              "            title=\"Suggest charts\"\n",
              "            style=\"display:none;\">\n",
              "\n",
              "<svg xmlns=\"http://www.w3.org/2000/svg\" height=\"24px\"viewBox=\"0 0 24 24\"\n",
              "     width=\"24px\">\n",
              "    <g>\n",
              "        <path d=\"M19 3H5c-1.1 0-2 .9-2 2v14c0 1.1.9 2 2 2h14c1.1 0 2-.9 2-2V5c0-1.1-.9-2-2-2zM9 17H7v-7h2v7zm4 0h-2V7h2v10zm4 0h-2v-4h2v4z\"/>\n",
              "    </g>\n",
              "</svg>\n",
              "  </button>\n",
              "\n",
              "<style>\n",
              "  .colab-df-quickchart {\n",
              "      --bg-color: #E8F0FE;\n",
              "      --fill-color: #1967D2;\n",
              "      --hover-bg-color: #E2EBFA;\n",
              "      --hover-fill-color: #174EA6;\n",
              "      --disabled-fill-color: #AAA;\n",
              "      --disabled-bg-color: #DDD;\n",
              "  }\n",
              "\n",
              "  [theme=dark] .colab-df-quickchart {\n",
              "      --bg-color: #3B4455;\n",
              "      --fill-color: #D2E3FC;\n",
              "      --hover-bg-color: #434B5C;\n",
              "      --hover-fill-color: #FFFFFF;\n",
              "      --disabled-bg-color: #3B4455;\n",
              "      --disabled-fill-color: #666;\n",
              "  }\n",
              "\n",
              "  .colab-df-quickchart {\n",
              "    background-color: var(--bg-color);\n",
              "    border: none;\n",
              "    border-radius: 50%;\n",
              "    cursor: pointer;\n",
              "    display: none;\n",
              "    fill: var(--fill-color);\n",
              "    height: 32px;\n",
              "    padding: 0;\n",
              "    width: 32px;\n",
              "  }\n",
              "\n",
              "  .colab-df-quickchart:hover {\n",
              "    background-color: var(--hover-bg-color);\n",
              "    box-shadow: 0 1px 2px rgba(60, 64, 67, 0.3), 0 1px 3px 1px rgba(60, 64, 67, 0.15);\n",
              "    fill: var(--button-hover-fill-color);\n",
              "  }\n",
              "\n",
              "  .colab-df-quickchart-complete:disabled,\n",
              "  .colab-df-quickchart-complete:disabled:hover {\n",
              "    background-color: var(--disabled-bg-color);\n",
              "    fill: var(--disabled-fill-color);\n",
              "    box-shadow: none;\n",
              "  }\n",
              "\n",
              "  .colab-df-spinner {\n",
              "    border: 2px solid var(--fill-color);\n",
              "    border-color: transparent;\n",
              "    border-bottom-color: var(--fill-color);\n",
              "    animation:\n",
              "      spin 1s steps(1) infinite;\n",
              "  }\n",
              "\n",
              "  @keyframes spin {\n",
              "    0% {\n",
              "      border-color: transparent;\n",
              "      border-bottom-color: var(--fill-color);\n",
              "      border-left-color: var(--fill-color);\n",
              "    }\n",
              "    20% {\n",
              "      border-color: transparent;\n",
              "      border-left-color: var(--fill-color);\n",
              "      border-top-color: var(--fill-color);\n",
              "    }\n",
              "    30% {\n",
              "      border-color: transparent;\n",
              "      border-left-color: var(--fill-color);\n",
              "      border-top-color: var(--fill-color);\n",
              "      border-right-color: var(--fill-color);\n",
              "    }\n",
              "    40% {\n",
              "      border-color: transparent;\n",
              "      border-right-color: var(--fill-color);\n",
              "      border-top-color: var(--fill-color);\n",
              "    }\n",
              "    60% {\n",
              "      border-color: transparent;\n",
              "      border-right-color: var(--fill-color);\n",
              "    }\n",
              "    80% {\n",
              "      border-color: transparent;\n",
              "      border-right-color: var(--fill-color);\n",
              "      border-bottom-color: var(--fill-color);\n",
              "    }\n",
              "    90% {\n",
              "      border-color: transparent;\n",
              "      border-bottom-color: var(--fill-color);\n",
              "    }\n",
              "  }\n",
              "</style>\n",
              "\n",
              "  <script>\n",
              "    async function quickchart(key) {\n",
              "      const quickchartButtonEl =\n",
              "        document.querySelector('#' + key + ' button');\n",
              "      quickchartButtonEl.disabled = true;  // To prevent multiple clicks.\n",
              "      quickchartButtonEl.classList.add('colab-df-spinner');\n",
              "      try {\n",
              "        const charts = await google.colab.kernel.invokeFunction(\n",
              "            'suggestCharts', [key], {});\n",
              "      } catch (error) {\n",
              "        console.error('Error during call to suggestCharts:', error);\n",
              "      }\n",
              "      quickchartButtonEl.classList.remove('colab-df-spinner');\n",
              "      quickchartButtonEl.classList.add('colab-df-quickchart-complete');\n",
              "    }\n",
              "    (() => {\n",
              "      let quickchartButtonEl =\n",
              "        document.querySelector('#df-38e99b77-73a3-4f5e-bea1-2f999633f300 button');\n",
              "      quickchartButtonEl.style.display =\n",
              "        google.colab.kernel.accessAllowed ? 'block' : 'none';\n",
              "    })();\n",
              "  </script>\n",
              "</div>\n",
              "\n",
              "    </div>\n",
              "  </div>\n"
            ],
            "application/vnd.google.colaboratory.intrinsic+json": {
              "type": "dataframe",
              "summary": "{\n  \"name\": \"train_ds\",\n  \"rows\": 8,\n  \"fields\": [\n    {\n      \"column\": \"PassengerId\",\n      \"properties\": {\n        \"dtype\": \"number\",\n        \"std\": 320.8159711429855,\n        \"min\": 1.0,\n        \"max\": 891.0,\n        \"num_unique_values\": 6,\n        \"samples\": [\n          891.0,\n          446.0,\n          668.5\n        ],\n        \"semantic_type\": \"\",\n        \"description\": \"\"\n      }\n    },\n    {\n      \"column\": \"Survived\",\n      \"properties\": {\n        \"dtype\": \"number\",\n        \"std\": 314.8713661874558,\n        \"min\": 0.0,\n        \"max\": 891.0,\n        \"num_unique_values\": 5,\n        \"samples\": [\n          0.3838383838383838,\n          1.0,\n          0.4865924542648575\n        ],\n        \"semantic_type\": \"\",\n        \"description\": \"\"\n      }\n    },\n    {\n      \"column\": \"Pclass\",\n      \"properties\": {\n        \"dtype\": \"number\",\n        \"std\": 314.2523437079694,\n        \"min\": 0.836071240977049,\n        \"max\": 891.0,\n        \"num_unique_values\": 6,\n        \"samples\": [\n          891.0,\n          2.308641975308642,\n          3.0\n        ],\n        \"semantic_type\": \"\",\n        \"description\": \"\"\n      }\n    },\n    {\n      \"column\": \"Age\",\n      \"properties\": {\n        \"dtype\": \"number\",\n        \"std\": 242.9056731818781,\n        \"min\": 0.42,\n        \"max\": 714.0,\n        \"num_unique_values\": 8,\n        \"samples\": [\n          29.69911764705882,\n          28.0,\n          714.0\n        ],\n        \"semantic_type\": \"\",\n        \"description\": \"\"\n      }\n    },\n    {\n      \"column\": \"SibSp\",\n      \"properties\": {\n        \"dtype\": \"number\",\n        \"std\": 314.4908277465442,\n        \"min\": 0.0,\n        \"max\": 891.0,\n        \"num_unique_values\": 6,\n        \"samples\": [\n          891.0,\n          0.5230078563411896,\n          8.0\n        ],\n        \"semantic_type\": \"\",\n        \"description\": \"\"\n      }\n    },\n    {\n      \"column\": \"Parch\",\n      \"properties\": {\n        \"dtype\": \"number\",\n        \"std\": 314.65971717879,\n        \"min\": 0.0,\n        \"max\": 891.0,\n        \"num_unique_values\": 5,\n        \"samples\": [\n          0.38159371492704824,\n          6.0,\n          0.8060572211299483\n        ],\n        \"semantic_type\": \"\",\n        \"description\": \"\"\n      }\n    },\n    {\n      \"column\": \"Fare\",\n      \"properties\": {\n        \"dtype\": \"number\",\n        \"std\": 330.6256632228578,\n        \"min\": 0.0,\n        \"max\": 891.0,\n        \"num_unique_values\": 8,\n        \"samples\": [\n          32.204207968574636,\n          14.4542,\n          891.0\n        ],\n        \"semantic_type\": \"\",\n        \"description\": \"\"\n      }\n    }\n  ]\n}"
            }
          },
          "metadata": {},
          "execution_count": 60
        }
      ]
    },
    {
      "cell_type": "markdown",
      "source": [
        "## Observation - Statistical Summary of Train dataset\n",
        "- **`Survived`** is a binary indicator where **`1`** represents survival and **`0`** represents non-survival. The mean survival rate is **`0.383838`** (approximately **`38.38%`**), suggesting that less than half of the passengers survived.\n",
        "\n",
        "- **`Pclass`** represents the class of travel with a lower number indicating a higher class. The passengers are spread across three classes, with a mean **`Pclass`** of **`2.308642`**, implying that most passengers are in the second and third classes.\n",
        "\n",
        "- The **`Age`** of passengers has a mean of **`29.699118`** years, with the youngest being **`0.42`** years old (likely a few months old) and the oldest at **`80`** years. The age data appears to be incomplete, with **`714`** out of **`891`** entries having non-null values."
      ],
      "metadata": {
        "id": "sbAQxwM0fmLH"
      }
    },
    {
      "cell_type": "markdown",
      "source": [
        "# 3. Mising Data Inspection"
      ],
      "metadata": {
        "id": "YaVOKWi1fmLI"
      }
    },
    {
      "cell_type": "markdown",
      "source": [
        "## 3.1. Missing Values - Train"
      ],
      "metadata": {
        "id": "TFGkF1jMfmLI"
      }
    },
    {
      "cell_type": "code",
      "source": [
        "train_ds.isnull().sum()"
      ],
      "metadata": {
        "execution": {
          "iopub.status.busy": "2024-03-09T05:14:06.014844Z",
          "iopub.execute_input": "2024-03-09T05:14:06.01544Z",
          "iopub.status.idle": "2024-03-09T05:14:06.040058Z",
          "shell.execute_reply.started": "2024-03-09T05:14:06.015407Z",
          "shell.execute_reply": "2024-03-09T05:14:06.038971Z"
        },
        "trusted": true,
        "id": "K1l9RXN2fmLI",
        "outputId": "10119223-71bd-451a-9404-4a4e7c2c1cfe",
        "colab": {
          "base_uri": "https://localhost:8080/"
        }
      },
      "execution_count": 61,
      "outputs": [
        {
          "output_type": "execute_result",
          "data": {
            "text/plain": [
              "PassengerId      0\n",
              "Survived         0\n",
              "Pclass           0\n",
              "Name             0\n",
              "Sex              0\n",
              "Age            177\n",
              "SibSp            0\n",
              "Parch            0\n",
              "Ticket           0\n",
              "Fare             0\n",
              "Cabin          687\n",
              "Embarked         2\n",
              "dtype: int64"
            ]
          },
          "metadata": {},
          "execution_count": 61
        }
      ]
    },
    {
      "cell_type": "markdown",
      "source": [
        "## 3.2. Missing Values - Test"
      ],
      "metadata": {
        "id": "JtXbTVibfmLJ"
      }
    },
    {
      "cell_type": "code",
      "source": [
        "print(test_ds.isnull().sum())"
      ],
      "metadata": {
        "execution": {
          "iopub.status.busy": "2024-03-09T05:14:06.041579Z",
          "iopub.execute_input": "2024-03-09T05:14:06.041924Z",
          "iopub.status.idle": "2024-03-09T05:14:06.067507Z",
          "shell.execute_reply.started": "2024-03-09T05:14:06.041899Z",
          "shell.execute_reply": "2024-03-09T05:14:06.066461Z"
        },
        "trusted": true,
        "id": "edmqdULVfmLJ",
        "outputId": "6548c9f1-6983-47ae-d2c1-684545d5547c",
        "colab": {
          "base_uri": "https://localhost:8080/"
        }
      },
      "execution_count": 62,
      "outputs": [
        {
          "output_type": "stream",
          "name": "stdout",
          "text": [
            "PassengerId      0\n",
            "Pclass           0\n",
            "Name             0\n",
            "Sex              0\n",
            "Age             86\n",
            "SibSp            0\n",
            "Parch            0\n",
            "Ticket           0\n",
            "Fare             1\n",
            "Cabin          327\n",
            "Embarked         0\n",
            "dtype: int64\n"
          ]
        }
      ]
    },
    {
      "cell_type": "markdown",
      "source": [
        "## 3.3. Observations\n",
        "### Missing Data Insights for Train Dataset\n",
        "\n",
        "- **Missing Entries**: In the training dataset of 891 entries, several columns have missing values:\n",
        "  - `Age` has **177 missing entries (19.87%)**.\n",
        "  - `Cabin` has **687 missing entries (77.1%)**.\n",
        "  - `Embarked` has **2 missing entries (0.22%)**.\n",
        "  \n",
        "### Missing Data Insights for Test Dataset\n",
        "\n",
        "- **Missing Entries**: In the training dataset of 418 entries, several columns have missing values:\n",
        "  - `Age` has **86 missing entries (20.57%)**.\n",
        "  - `Cabin` has **327 missing entries (78.23%)**.\n",
        "  - `Fare` has **1 missing entries (0.24%)**."
      ],
      "metadata": {
        "id": "bqBT5zYTfmLK"
      }
    },
    {
      "cell_type": "code",
      "source": [
        "# Visualization of survival based on passenger class\n",
        "sns.countplot(x='Pclass', hue='Survived', data=train_ds)\n",
        "plt.title('Survival Rate by Passenger Class')\n",
        "plt.show()"
      ],
      "metadata": {
        "id": "l0YEFkF5nKbs",
        "outputId": "ddfe15bf-93a3-403f-9c8e-c8dc4f188759",
        "colab": {
          "base_uri": "https://localhost:8080/",
          "height": 472
        }
      },
      "execution_count": 63,
      "outputs": [
        {
          "output_type": "display_data",
          "data": {
            "text/plain": [
              "<Figure size 640x480 with 1 Axes>"
            ],
            "image/png": "[encoded data removed]"
          },
          "metadata": {}
        }
      ]
    },
    {
      "cell_type": "code",
      "source": [
        "# Visualization of survival based on sex\n",
        "sns.countplot(x='Sex', hue='Survived', data=train_ds)\n",
        "plt.title('Survival Rate by Sex')\n",
        "plt.show()"
      ],
      "metadata": {
        "id": "BNYDPGY7nKEN",
        "outputId": "ea454640-48ab-451f-bdd3-b453952af250",
        "colab": {
          "base_uri": "https://localhost:8080/",
          "height": 472
        }
      },
      "execution_count": 64,
      "outputs": [
        {
          "output_type": "display_data",
          "data": {
            "text/plain": [
              "<Figure size 640x480 with 1 Axes>"
            ],
            "image/png": "[encoded data removed]"
          },
          "metadata": {}
        }
      ]
    },
    {
      "cell_type": "code",
      "source": [
        "# Distribution of age among passengers\n",
        "plt.figure(figsize=(8,5))\n",
        "sns.histplot(train_ds['Age'].dropna(), kde=True)\n",
        "plt.title('Age Distribution among Passengers')\n",
        "plt.xlabel('Age')\n",
        "plt.show()"
      ],
      "metadata": {
        "id": "HMi17-GgnUmu",
        "outputId": "ac992b43-fbf1-47fe-e0f6-ae23509a8eef",
        "colab": {
          "base_uri": "https://localhost:8080/",
          "height": 487
        }
      },
      "execution_count": 65,
      "outputs": [
        {
          "output_type": "display_data",
          "data": {
            "text/plain": [
              "<Figure size 800x500 with 1 Axes>"
            ],
            "image/png": "[encoded data removed]"
          },
          "metadata": {}
        }
      ]
    },
    {
      "cell_type": "markdown",
      "source": [
        "<h1 style=\"background-color: #583BE3; color: white; padding: 10px; text-align: center; border-radius: 8px; margin: 20px 0; font-family: 'Arial', sans-serif;\">Data Preprocessing</h1>"
      ],
      "metadata": {
        "id": "rZmNPLhEfmLK"
      }
    },
    {
      "cell_type": "markdown",
      "source": [
        "# 4. Data Cleaning"
      ],
      "metadata": {
        "id": "5vrTO4GjfmLL"
      }
    },
    {
      "cell_type": "markdown",
      "source": [
        "## 4.1. Handling Missing Values\n",
        "As we know from our analysis above, the missing values are in the following features:\n",
        "- Cabin\n",
        "- Age\n",
        "- Embarked\n",
        "\n",
        "Let's deal with these now.\n",
        "For missing values in Cabin, I will follow the technique used by [Niklas Donges](https://towardsdatascience.com/predicting-the-survival-of-titanic-passengers-30870ccc7e8). As the article suggests, in `C123` the `C` refers to a deck on the titanic ship. Using this information, we will create a new feature called `'Deck' `that represents a deck of the cabin."
      ],
      "metadata": {
        "id": "k61F1lwCfmLL"
      }
    },
    {
      "cell_type": "code",
      "source": [
        "import re\n",
        "\n",
        "# Define the deck level dictionary\n",
        "deck = {\"A\": 1, \"B\": 2, \"C\": 3, \"D\": 4, \"E\": 5, \"F\": 6, \"G\": 7, \"U\": 8}\n",
        "\n",
        "# Create a list of datasets\n",
        "data = [train_ds, test_ds]\n",
        "\n",
        "for dataset in data:\n",
        "    # Fill missing Cabin values with 'U0'\n",
        "    dataset['Cabin'] = dataset['Cabin'].fillna(\"U0\")\n",
        "\n",
        "    # Extract the first sequence of letters which represents the Deck and map it to a number\n",
        "    dataset['Deck'] = dataset['Cabin'].map(lambda x: re.compile(\"([a-zA-Z]+)\").search(x).group())\n",
        "    dataset['Deck'] = dataset['Deck'].map(deck)\n",
        "\n",
        "    # Fill missing Deck values with 0\n",
        "    dataset['Deck'] = dataset['Deck'].fillna(0)\n",
        "\n",
        "    # Convert Deck to an integer type\n",
        "    dataset['Deck'] = dataset['Deck'].astype(int)\n",
        "\n",
        "    # Drop the Cabin column as it's no longer needed\n",
        "    dataset.drop(['Cabin'], axis=1, inplace=True)"
      ],
      "metadata": {
        "execution": {
          "iopub.status.busy": "2024-03-09T05:14:06.068805Z",
          "iopub.execute_input": "2024-03-09T05:14:06.069115Z",
          "iopub.status.idle": "2024-03-09T05:14:06.087915Z",
          "shell.execute_reply.started": "2024-03-09T05:14:06.06909Z",
          "shell.execute_reply": "2024-03-09T05:14:06.086852Z"
        },
        "trusted": true,
        "id": "OXp1Fth5fmLM"
      },
      "execution_count": 66,
      "outputs": []
    },
    {
      "cell_type": "code",
      "source": [
        "from sklearn.impute import SimpleImputer\n",
        "imputer = SimpleImputer(strategy='mean')\n",
        "\n",
        "data = [train_ds, test_ds]\n",
        "for dataset in data:\n",
        "    dataset['Age'] = imputer.fit_transform(dataset['Age'].values.reshape(-1, 1))\n",
        "    dataset['Embarked'] = dataset['Embarked'].fillna(dataset['Embarked'].mode()[0])\n",
        "    dataset['Fare'] = (dataset['Fare'].fillna(0)).astype(int)"
      ],
      "metadata": {
        "execution": {
          "iopub.status.busy": "2024-03-09T05:14:06.089083Z",
          "iopub.execute_input": "2024-03-09T05:14:06.0894Z",
          "iopub.status.idle": "2024-03-09T05:14:06.264441Z",
          "shell.execute_reply.started": "2024-03-09T05:14:06.089369Z",
          "shell.execute_reply": "2024-03-09T05:14:06.263613Z"
        },
        "trusted": true,
        "id": "JTvNETXsfmLN"
      },
      "execution_count": 67,
      "outputs": []
    },
    {
      "cell_type": "markdown",
      "source": [
        "## 4.2. Feature Extraction"
      ],
      "metadata": {
        "id": "E5_LadY8fmLN"
      }
    },
    {
      "cell_type": "markdown",
      "source": [
        "### 4.1.1. New Feature for Sibling Spouse and Parent Child Relationship\n",
        "I will combine the SibSp and Parch columns to create a new column called FamilySize. I will also create a new column called IsAlone to indicate if the passenger was alone or not."
      ],
      "metadata": {
        "id": "OqrWLLdrfmLN"
      }
    },
    {
      "cell_type": "code",
      "source": [
        "data = [train_ds, test_ds]\n",
        "for dataset in data:\n",
        "  dataset['isAlone'] = (dataset['SibSp'] + dataset['Parch'] == 0).astype(int)\n",
        "  dataset['isFamily'] = (dataset['SibSp'] + dataset['Parch'] > 0).astype(int)\n"
      ],
      "metadata": {
        "execution": {
          "iopub.status.busy": "2024-03-09T05:14:06.265678Z",
          "iopub.execute_input": "2024-03-09T05:14:06.266545Z",
          "iopub.status.idle": "2024-03-09T05:14:06.275012Z",
          "shell.execute_reply.started": "2024-03-09T05:14:06.26651Z",
          "shell.execute_reply": "2024-03-09T05:14:06.274079Z"
        },
        "trusted": true,
        "id": "1hVH3OO5fmLO"
      },
      "execution_count": 68,
      "outputs": []
    },
    {
      "cell_type": "markdown",
      "source": [
        "### 4.1.2. Feature Engineering: Creating 'FamilySize' and 'Title' Features"
      ],
      "metadata": {
        "id": "SXxNbnJjfmLO"
      }
    },
    {
      "cell_type": "code",
      "source": [
        "data = [train_ds, test_ds]\n",
        "\n",
        "for dataset in data:\n",
        "    # Create the FamilySize feature by adding SibSp, Parch, and 1 - for the individual themselves\n",
        "    dataset['FamilySize'] = dataset['SibSp'] + dataset['Parch'] + 1\n",
        "\n",
        "    # Extract Title from the Name column\n",
        "    dataset['Title'] = dataset['Name'].str.extract(' ([A-Za-z]+)\\.', expand=False)\n",
        "\n",
        "    # Consolidate rare titles into a single 'Rare' category\n",
        "    rare_titles = ['Lady', 'Countess', 'Capt', 'Col', 'Don', 'Dr', 'Major', 'Rev', 'Sir', 'Jonkheer', 'Dona']\n",
        "    dataset['Title'] = dataset['Title'].replace(rare_titles, 'Rare')\n",
        "\n",
        "    # Replace 'Mlle' and 'Ms' with 'Miss', and 'Mme' with 'Mrs'\n",
        "    dataset['Title'] = dataset['Title'].replace({'Mlle': 'Miss', 'Ms': 'Miss', 'Mme': 'Mrs'})\n",
        "\n",
        "    # Extract An AgeGroup from the Age column\n",
        "    dataset['AgeGroup'] = pd.cut(dataset['Age'], bins=[0, 12, 18, 60, np.inf], labels=['Child', 'Teenager', 'Adult', 'Senior'])\n",
        "\n",
        "    # Create a fare per person feature\n",
        "    dataset['FarePerPerson'] = (dataset['Fare'] / dataset['FamilySize']).astype(int)\n",
        "\n",
        ""
      ],
      "metadata": {
        "execution": {
          "iopub.status.busy": "2024-03-09T05:14:06.276264Z",
          "iopub.execute_input": "2024-03-09T05:14:06.276624Z",
          "iopub.status.idle": "2024-03-09T05:14:06.300108Z",
          "shell.execute_reply.started": "2024-03-09T05:14:06.276591Z",
          "shell.execute_reply": "2024-03-09T05:14:06.299396Z"
        },
        "trusted": true,
        "id": "yJiGMFRTfmLO"
      },
      "execution_count": 69,
      "outputs": []
    },
    {
      "cell_type": "markdown",
      "source": [
        "### 4.1.3. Dropping Name and Ticket Features"
      ],
      "metadata": {
        "id": "yfxipYAxfmLP"
      }
    },
    {
      "cell_type": "code",
      "source": [
        "columns_to_drop = ['Name', 'Ticket']\n",
        "\n",
        "data = [train_ds, test_ds]\n",
        "\n",
        "for dataset in data:\n",
        "    dataset.drop(columns=columns_to_drop, inplace=True)"
      ],
      "metadata": {
        "execution": {
          "iopub.status.busy": "2024-03-09T05:14:06.301457Z",
          "iopub.execute_input": "2024-03-09T05:14:06.302048Z",
          "iopub.status.idle": "2024-03-09T05:14:06.308844Z",
          "shell.execute_reply.started": "2024-03-09T05:14:06.302014Z",
          "shell.execute_reply": "2024-03-09T05:14:06.307722Z"
        },
        "trusted": true,
        "id": "k_6lIx96fmLP"
      },
      "execution_count": 70,
      "outputs": []
    },
    {
      "cell_type": "code",
      "source": [
        "train_ds.isnull().sum()"
      ],
      "metadata": {
        "execution": {
          "iopub.status.busy": "2024-03-09T05:14:06.314284Z",
          "iopub.execute_input": "2024-03-09T05:14:06.314724Z",
          "iopub.status.idle": "2024-03-09T05:14:06.344989Z",
          "shell.execute_reply.started": "2024-03-09T05:14:06.314699Z",
          "shell.execute_reply": "2024-03-09T05:14:06.344051Z"
        },
        "trusted": true,
        "id": "kvhSNbWefmLQ",
        "outputId": "603486e1-468a-4a95-d25f-e34fcf2c6e38",
        "colab": {
          "base_uri": "https://localhost:8080/"
        }
      },
      "execution_count": 71,
      "outputs": [
        {
          "output_type": "execute_result",
          "data": {
            "text/plain": [
              "PassengerId      0\n",
              "Survived         0\n",
              "Pclass           0\n",
              "Sex              0\n",
              "Age              0\n",
              "SibSp            0\n",
              "Parch            0\n",
              "Fare             0\n",
              "Embarked         0\n",
              "Deck             0\n",
              "isAlone          0\n",
              "isFamily         0\n",
              "FamilySize       0\n",
              "Title            0\n",
              "AgeGroup         0\n",
              "FarePerPerson    0\n",
              "dtype: int64"
            ]
          },
          "metadata": {},
          "execution_count": 71
        }
      ]
    },
    {
      "cell_type": "code",
      "source": [
        "test_ds.isnull().sum()"
      ],
      "metadata": {
        "execution": {
          "iopub.status.busy": "2024-03-09T05:14:06.346148Z",
          "iopub.execute_input": "2024-03-09T05:14:06.346472Z",
          "iopub.status.idle": "2024-03-09T05:14:06.376211Z",
          "shell.execute_reply.started": "2024-03-09T05:14:06.346446Z",
          "shell.execute_reply": "2024-03-09T05:14:06.375319Z"
        },
        "trusted": true,
        "id": "tV8w0rpnfmLQ",
        "outputId": "ea212678-043c-4802-bcfb-3aa2aca87b8f",
        "colab": {
          "base_uri": "https://localhost:8080/"
        }
      },
      "execution_count": 72,
      "outputs": [
        {
          "output_type": "execute_result",
          "data": {
            "text/plain": [
              "PassengerId      0\n",
              "Pclass           0\n",
              "Sex              0\n",
              "Age              0\n",
              "SibSp            0\n",
              "Parch            0\n",
              "Fare             0\n",
              "Embarked         0\n",
              "Deck             0\n",
              "isAlone          0\n",
              "isFamily         0\n",
              "FamilySize       0\n",
              "Title            0\n",
              "AgeGroup         0\n",
              "FarePerPerson    0\n",
              "dtype: int64"
            ]
          },
          "metadata": {},
          "execution_count": 72
        }
      ]
    },
    {
      "cell_type": "markdown",
      "source": [
        "## 4.2. Categorical Features Mapping"
      ],
      "metadata": {
        "id": "QSYRoPZDfmLQ"
      }
    },
    {
      "cell_type": "code",
      "source": [
        "def category_mapping(data):\n",
        "  mapping = {\n",
        "    'Sex': {'male': 0, 'female': 1},\n",
        "    'Embarked': {'S': 0, 'C': 1, 'Q': 2},\n",
        "    'Title': {'Mr': 1, 'Miss': 2, 'Mrs': 3, 'Master': 4, 'Rare': 5},\n",
        "    'AgeGroup': {'Child': 1, 'Teenager': 2, 'Adult': 3, 'Senior': 4}\n",
        "  }\n",
        "\n",
        "  # loop over each dataframe in the list\n",
        "  for df in data:\n",
        "    # map the categorical features to numerical values using the mapping dict\n",
        "    for feature, value in mapping.items():\n",
        "      df[feature] = df[feature].map(value)\n",
        "\n",
        "  return data\n",
        "\n",
        "data = category_mapping([train_ds, test_ds])"
      ],
      "metadata": {
        "execution": {
          "iopub.status.busy": "2024-03-09T05:14:06.377234Z",
          "iopub.execute_input": "2024-03-09T05:14:06.377511Z",
          "iopub.status.idle": "2024-03-09T05:14:06.390118Z",
          "shell.execute_reply.started": "2024-03-09T05:14:06.377487Z",
          "shell.execute_reply": "2024-03-09T05:14:06.389192Z"
        },
        "trusted": true,
        "id": "Tt-D1wHkfmLR"
      },
      "execution_count": 73,
      "outputs": []
    },
    {
      "cell_type": "markdown",
      "source": [
        "## 4.3. Normalization"
      ],
      "metadata": {
        "id": "rmhtzsKvfmLR"
      }
    },
    {
      "cell_type": "code",
      "source": [
        "from sklearn.preprocessing import StandardScaler\n",
        "\n",
        "def normalize_data(data):\n",
        "    scaler = StandardScaler()\n",
        "\n",
        "    for i in range(len(data)):\n",
        "        # apply scaling to the whole data and update the original dataframe\n",
        "        data[i][:] = scaler.fit_transform(data[i])\n",
        "\n",
        "    return data\n",
        "\n",
        "data = normalize_data([train_ds, test_ds])"
      ],
      "metadata": {
        "execution": {
          "iopub.status.busy": "2024-03-09T05:14:06.391372Z",
          "iopub.execute_input": "2024-03-09T05:14:06.391649Z",
          "iopub.status.idle": "2024-03-09T05:14:06.583366Z",
          "shell.execute_reply.started": "2024-03-09T05:14:06.391626Z",
          "shell.execute_reply": "2024-03-09T05:14:06.582663Z"
        },
        "trusted": true,
        "id": "UxGz8yvafmLT"
      },
      "execution_count": 74,
      "outputs": []
    },
    {
      "cell_type": "markdown",
      "source": [
        "<h1 style=\"background-color: #583BE3; color: white; padding: 10px; text-align: center; border-radius: 8px; margin: 20px 0; font-family: 'Arial', sans-serif;\">Model Selection and Training</h1>"
      ],
      "metadata": {
        "id": "I0YfPLLifmLU"
      }
    },
    {
      "cell_type": "markdown",
      "source": [
        "# 5. Model Training"
      ],
      "metadata": {
        "id": "yw9J645DfmLU"
      }
    },
    {
      "cell_type": "code",
      "source": [
        "# split the train_ds into features and target\n",
        "X = train_ds.drop(columns='Survived')\n",
        "y = train_ds['Survived'].astype(int)\n",
        "\n",
        "from sklearn.model_selection import train_test_split\n",
        "\n",
        "# split the data into train and test sets\n",
        "X_train, X_test, y_train, y_test = train_test_split(X, y, test_size=0.2, random_state=42)"
      ],
      "metadata": {
        "execution": {
          "iopub.status.busy": "2024-03-09T05:14:06.58423Z",
          "iopub.execute_input": "2024-03-09T05:14:06.58451Z",
          "iopub.status.idle": "2024-03-09T05:14:06.595217Z",
          "shell.execute_reply.started": "2024-03-09T05:14:06.584486Z",
          "shell.execute_reply": "2024-03-09T05:14:06.594231Z"
        },
        "trusted": true,
        "id": "AvaGihvAfmLU"
      },
      "execution_count": 75,
      "outputs": []
    },
    {
      "cell_type": "code",
      "source": [
        "X_train.shape[1]"
      ],
      "metadata": {
        "id": "wA6LcvUhhvh-",
        "outputId": "bb25b666-bf43-4d8c-ba8f-1f1e47b604fa",
        "colab": {
          "base_uri": "https://localhost:8080/"
        }
      },
      "execution_count": 76,
      "outputs": [
        {
          "output_type": "execute_result",
          "data": {
            "text/plain": [
              "15"
            ]
          },
          "metadata": {},
          "execution_count": 76
        }
      ]
    },
    {
      "cell_type": "code",
      "source": [
        "import seaborn as sns\n",
        "from sklearn.model_selection import train_test_split\n",
        "from sklearn.preprocessing import StandardScaler\n",
        "import tensorflow as tf\n",
        "\n",
        "# Building the model\n",
        "\n",
        "# define the layers of the model\n",
        "input_layer = tf.keras.layers.Dense(10, activation='relu', input_shape=(X_train.shape[1],)) # input layer\n",
        "# hidden_layer = tf.keras.layers.Dense(10, activation='relu') # hidden layer\n",
        "output_layer = tf.keras.layers.Dense(1, activation='sigmoid') # output layer\n",
        "\n",
        "# combine the layers into a model\n",
        "model = tf.keras.models.Sequential([input_layer,\n",
        "                                    # hidden_layer,\n",
        "                                    output_layer])\n",
        "\n",
        "# Compile the model\n",
        "model.compile(optimizer='adam',\n",
        "              loss='binary_crossentropy',\n",
        "              metrics=['accuracy'])"
      ],
      "metadata": {
        "id": "Sjs_PIqFh5Ah"
      },
      "execution_count": 77,
      "outputs": []
    },
    {
      "cell_type": "code",
      "source": [
        "%%time\n",
        "# Training the model\n",
        "history= model.fit(X_train, y_train, epochs=100, batch_size=32, verbose=1)"
      ],
      "metadata": {
        "id": "B9AurDiIh47H",
        "outputId": "d49a6c8d-507a-4cf9-929e-ce2744eb6615",
        "colab": {
          "base_uri": "https://localhost:8080/"
        }
      },
      "execution_count": 78,
      "outputs": [
        {
          "output_type": "stream",
          "name": "stdout",
          "text": [
            "Epoch 1/100\n",
            "23/23 [==============================] - 1s 6ms/step - loss: 0.6565 - accuracy: 0.6685\n",
            "Epoch 2/100\n",
            "23/23 [==============================] - 0s 7ms/step - loss: 0.6157 - accuracy: 0.7360\n",
            "Epoch 3/100\n",
            "23/23 [==============================] - 0s 7ms/step - loss: 0.5859 - accuracy: 0.7472\n",
            "Epoch 4/100\n",
            "23/23 [==============================] - 0s 7ms/step - loss: 0.5622 - accuracy: 0.7626\n",
            "Epoch 5/100\n",
            "23/23 [==============================] - 0s 6ms/step - loss: 0.5399 - accuracy: 0.7654\n",
            "Epoch 6/100\n",
            "23/23 [==============================] - 0s 7ms/step - loss: 0.5211 - accuracy: 0.7753\n",
            "Epoch 7/100\n",
            "23/23 [==============================] - 0s 5ms/step - loss: 0.5052 - accuracy: 0.7781\n",
            "Epoch 8/100\n",
            "23/23 [==============================] - 0s 7ms/step - loss: 0.4915 - accuracy: 0.7893\n",
            "Epoch 9/100\n",
            "23/23 [==============================] - 0s 8ms/step - loss: 0.4800 - accuracy: 0.8048\n",
            "Epoch 10/100\n",
            "23/23 [==============================] - 0s 6ms/step - loss: 0.4701 - accuracy: 0.8090\n",
            "Epoch 11/100\n",
            "23/23 [==============================] - 0s 5ms/step - loss: 0.4622 - accuracy: 0.8090\n",
            "Epoch 12/100\n",
            "23/23 [==============================] - 0s 8ms/step - loss: 0.4544 - accuracy: 0.8160\n",
            "Epoch 13/100\n",
            "23/23 [==============================] - 0s 5ms/step - loss: 0.4483 - accuracy: 0.8188\n",
            "Epoch 14/100\n",
            "23/23 [==============================] - 0s 5ms/step - loss: 0.4433 - accuracy: 0.8202\n",
            "Epoch 15/100\n",
            "23/23 [==============================] - 0s 5ms/step - loss: 0.4391 - accuracy: 0.8230\n",
            "Epoch 16/100\n",
            "23/23 [==============================] - 0s 5ms/step - loss: 0.4358 - accuracy: 0.8244\n",
            "Epoch 17/100\n",
            "23/23 [==============================] - 0s 6ms/step - loss: 0.4324 - accuracy: 0.8244\n",
            "Epoch 18/100\n",
            "23/23 [==============================] - 0s 4ms/step - loss: 0.4298 - accuracy: 0.8244\n",
            "Epoch 19/100\n",
            "23/23 [==============================] - 0s 8ms/step - loss: 0.4277 - accuracy: 0.8258\n",
            "Epoch 20/100\n",
            "23/23 [==============================] - 0s 8ms/step - loss: 0.4257 - accuracy: 0.8272\n",
            "Epoch 21/100\n",
            "23/23 [==============================] - 0s 5ms/step - loss: 0.4237 - accuracy: 0.8272\n",
            "Epoch 22/100\n",
            "23/23 [==============================] - 0s 4ms/step - loss: 0.4220 - accuracy: 0.8272\n",
            "Epoch 23/100\n",
            "23/23 [==============================] - 0s 5ms/step - loss: 0.4201 - accuracy: 0.8272\n",
            "Epoch 24/100\n",
            "23/23 [==============================] - 0s 5ms/step - loss: 0.4187 - accuracy: 0.8258\n",
            "Epoch 25/100\n",
            "23/23 [==============================] - 0s 4ms/step - loss: 0.4171 - accuracy: 0.8315\n",
            "Epoch 26/100\n",
            "23/23 [==============================] - 0s 4ms/step - loss: 0.4153 - accuracy: 0.8287\n",
            "Epoch 27/100\n",
            "23/23 [==============================] - 0s 4ms/step - loss: 0.4138 - accuracy: 0.8301\n",
            "Epoch 28/100\n",
            "23/23 [==============================] - 0s 4ms/step - loss: 0.4124 - accuracy: 0.8315\n",
            "Epoch 29/100\n",
            "23/23 [==============================] - 0s 4ms/step - loss: 0.4110 - accuracy: 0.8315\n",
            "Epoch 30/100\n",
            "23/23 [==============================] - 0s 5ms/step - loss: 0.4100 - accuracy: 0.8315\n",
            "Epoch 31/100\n",
            "23/23 [==============================] - 0s 5ms/step - loss: 0.4087 - accuracy: 0.8315\n",
            "Epoch 32/100\n",
            "23/23 [==============================] - 0s 4ms/step - loss: 0.4078 - accuracy: 0.8315\n",
            "Epoch 33/100\n",
            "23/23 [==============================] - 0s 4ms/step - loss: 0.4065 - accuracy: 0.8315\n",
            "Epoch 34/100\n",
            "23/23 [==============================] - 0s 5ms/step - loss: 0.4054 - accuracy: 0.8315\n",
            "Epoch 35/100\n",
            "23/23 [==============================] - 0s 5ms/step - loss: 0.4050 - accuracy: 0.8329\n",
            "Epoch 36/100\n",
            "23/23 [==============================] - 0s 5ms/step - loss: 0.4041 - accuracy: 0.8329\n",
            "Epoch 37/100\n",
            "23/23 [==============================] - 0s 5ms/step - loss: 0.4028 - accuracy: 0.8329\n",
            "Epoch 38/100\n",
            "23/23 [==============================] - 0s 4ms/step - loss: 0.4021 - accuracy: 0.8315\n",
            "Epoch 39/100\n",
            "23/23 [==============================] - 0s 3ms/step - loss: 0.4015 - accuracy: 0.8329\n",
            "Epoch 40/100\n",
            "23/23 [==============================] - 0s 3ms/step - loss: 0.4006 - accuracy: 0.8343\n",
            "Epoch 41/100\n",
            "23/23 [==============================] - 0s 3ms/step - loss: 0.4001 - accuracy: 0.8357\n",
            "Epoch 42/100\n",
            "23/23 [==============================] - 0s 3ms/step - loss: 0.3991 - accuracy: 0.8329\n",
            "Epoch 43/100\n",
            "23/23 [==============================] - 0s 3ms/step - loss: 0.3985 - accuracy: 0.8357\n",
            "Epoch 44/100\n",
            "23/23 [==============================] - 0s 3ms/step - loss: 0.3977 - accuracy: 0.8357\n",
            "Epoch 45/100\n",
            "23/23 [==============================] - 0s 3ms/step - loss: 0.3972 - accuracy: 0.8357\n",
            "Epoch 46/100\n",
            "23/23 [==============================] - 0s 3ms/step - loss: 0.3967 - accuracy: 0.8371\n",
            "Epoch 47/100\n",
            "23/23 [==============================] - 0s 4ms/step - loss: 0.3959 - accuracy: 0.8385\n",
            "Epoch 48/100\n",
            "23/23 [==============================] - 0s 3ms/step - loss: 0.3956 - accuracy: 0.8399\n",
            "Epoch 49/100\n",
            "23/23 [==============================] - 0s 3ms/step - loss: 0.3949 - accuracy: 0.8399\n",
            "Epoch 50/100\n",
            "23/23 [==============================] - 0s 3ms/step - loss: 0.3947 - accuracy: 0.8399\n",
            "Epoch 51/100\n",
            "23/23 [==============================] - 0s 3ms/step - loss: 0.3941 - accuracy: 0.8413\n",
            "Epoch 52/100\n",
            "23/23 [==============================] - 0s 3ms/step - loss: 0.3934 - accuracy: 0.8413\n",
            "Epoch 53/100\n",
            "23/23 [==============================] - 0s 3ms/step - loss: 0.3926 - accuracy: 0.8399\n",
            "Epoch 54/100\n",
            "23/23 [==============================] - 0s 3ms/step - loss: 0.3921 - accuracy: 0.8399\n",
            "Epoch 55/100\n",
            "23/23 [==============================] - 0s 3ms/step - loss: 0.3915 - accuracy: 0.8399\n",
            "Epoch 56/100\n",
            "23/23 [==============================] - 0s 3ms/step - loss: 0.3912 - accuracy: 0.8385\n",
            "Epoch 57/100\n",
            "23/23 [==============================] - 0s 4ms/step - loss: 0.3905 - accuracy: 0.8399\n",
            "Epoch 58/100\n",
            "23/23 [==============================] - 0s 3ms/step - loss: 0.3907 - accuracy: 0.8413\n",
            "Epoch 59/100\n",
            "23/23 [==============================] - 0s 3ms/step - loss: 0.3897 - accuracy: 0.8399\n",
            "Epoch 60/100\n",
            "23/23 [==============================] - 0s 3ms/step - loss: 0.3891 - accuracy: 0.8399\n",
            "Epoch 61/100\n",
            "23/23 [==============================] - 0s 3ms/step - loss: 0.3884 - accuracy: 0.8385\n",
            "Epoch 62/100\n",
            "23/23 [==============================] - 0s 3ms/step - loss: 0.3882 - accuracy: 0.8413\n",
            "Epoch 63/100\n",
            "23/23 [==============================] - 0s 3ms/step - loss: 0.3874 - accuracy: 0.8413\n",
            "Epoch 64/100\n",
            "23/23 [==============================] - 0s 3ms/step - loss: 0.3871 - accuracy: 0.8399\n",
            "Epoch 65/100\n",
            "23/23 [==============================] - 0s 3ms/step - loss: 0.3868 - accuracy: 0.8413\n",
            "Epoch 66/100\n",
            "23/23 [==============================] - 0s 3ms/step - loss: 0.3860 - accuracy: 0.8427\n",
            "Epoch 67/100\n",
            "23/23 [==============================] - 0s 3ms/step - loss: 0.3854 - accuracy: 0.8441\n",
            "Epoch 68/100\n",
            "23/23 [==============================] - 0s 3ms/step - loss: 0.3850 - accuracy: 0.8441\n",
            "Epoch 69/100\n",
            "23/23 [==============================] - 0s 3ms/step - loss: 0.3844 - accuracy: 0.8455\n",
            "Epoch 70/100\n",
            "23/23 [==============================] - 0s 3ms/step - loss: 0.3841 - accuracy: 0.8441\n",
            "Epoch 71/100\n",
            "23/23 [==============================] - 0s 3ms/step - loss: 0.3832 - accuracy: 0.8441\n",
            "Epoch 72/100\n",
            "23/23 [==============================] - 0s 3ms/step - loss: 0.3828 - accuracy: 0.8469\n",
            "Epoch 73/100\n",
            "23/23 [==============================] - 0s 3ms/step - loss: 0.3826 - accuracy: 0.8455\n",
            "Epoch 74/100\n",
            "23/23 [==============================] - 0s 3ms/step - loss: 0.3819 - accuracy: 0.8469\n",
            "Epoch 75/100\n",
            "23/23 [==============================] - 0s 3ms/step - loss: 0.3816 - accuracy: 0.8469\n",
            "Epoch 76/100\n",
            "23/23 [==============================] - 0s 3ms/step - loss: 0.3809 - accuracy: 0.8469\n",
            "Epoch 77/100\n",
            "23/23 [==============================] - 0s 3ms/step - loss: 0.3807 - accuracy: 0.8483\n",
            "Epoch 78/100\n",
            "23/23 [==============================] - 0s 3ms/step - loss: 0.3805 - accuracy: 0.8455\n",
            "Epoch 79/100\n",
            "23/23 [==============================] - 0s 3ms/step - loss: 0.3797 - accuracy: 0.8469\n",
            "Epoch 80/100\n",
            "23/23 [==============================] - 0s 3ms/step - loss: 0.3797 - accuracy: 0.8469\n",
            "Epoch 81/100\n",
            "23/23 [==============================] - 0s 3ms/step - loss: 0.3793 - accuracy: 0.8469\n",
            "Epoch 82/100\n",
            "23/23 [==============================] - 0s 3ms/step - loss: 0.3785 - accuracy: 0.8469\n",
            "Epoch 83/100\n",
            "23/23 [==============================] - 0s 4ms/step - loss: 0.3781 - accuracy: 0.8469\n",
            "Epoch 84/100\n",
            "23/23 [==============================] - 0s 3ms/step - loss: 0.3775 - accuracy: 0.8483\n",
            "Epoch 85/100\n",
            "23/23 [==============================] - 0s 3ms/step - loss: 0.3780 - accuracy: 0.8483\n",
            "Epoch 86/100\n",
            "23/23 [==============================] - 0s 3ms/step - loss: 0.3773 - accuracy: 0.8469\n",
            "Epoch 87/100\n",
            "23/23 [==============================] - 0s 3ms/step - loss: 0.3767 - accuracy: 0.8469\n",
            "Epoch 88/100\n",
            "23/23 [==============================] - 0s 3ms/step - loss: 0.3767 - accuracy: 0.8455\n",
            "Epoch 89/100\n",
            "23/23 [==============================] - 0s 3ms/step - loss: 0.3760 - accuracy: 0.8455\n",
            "Epoch 90/100\n",
            "23/23 [==============================] - 0s 3ms/step - loss: 0.3762 - accuracy: 0.8483\n",
            "Epoch 91/100\n",
            "23/23 [==============================] - 0s 3ms/step - loss: 0.3762 - accuracy: 0.8455\n",
            "Epoch 92/100\n",
            "23/23 [==============================] - 0s 3ms/step - loss: 0.3753 - accuracy: 0.8469\n",
            "Epoch 93/100\n",
            "23/23 [==============================] - 0s 3ms/step - loss: 0.3749 - accuracy: 0.8469\n",
            "Epoch 94/100\n",
            "23/23 [==============================] - 0s 3ms/step - loss: 0.3748 - accuracy: 0.8455\n",
            "Epoch 95/100\n",
            "23/23 [==============================] - 0s 4ms/step - loss: 0.3744 - accuracy: 0.8469\n",
            "Epoch 96/100\n",
            "23/23 [==============================] - 0s 3ms/step - loss: 0.3741 - accuracy: 0.8455\n",
            "Epoch 97/100\n",
            "23/23 [==============================] - 0s 3ms/step - loss: 0.3738 - accuracy: 0.8455\n",
            "Epoch 98/100\n",
            "23/23 [==============================] - 0s 3ms/step - loss: 0.3735 - accuracy: 0.8469\n",
            "Epoch 99/100\n",
            "23/23 [==============================] - 0s 3ms/step - loss: 0.3736 - accuracy: 0.8455\n",
            "Epoch 100/100\n",
            "23/23 [==============================] - 0s 3ms/step - loss: 0.3729 - accuracy: 0.8469\n",
            "CPU times: user 10.5 s, sys: 694 ms, total: 11.2 s\n",
            "Wall time: 11 s\n"
          ]
        }
      ]
    },
    {
      "cell_type": "code",
      "source": [
        "# Evaluating the model\n",
        "loss, accuracy = model.evaluate(X_test, y_test, verbose=1)\n",
        "print(f\"Test Accuracy: {accuracy}\")\n",
        "print(f\"Test Loss: {loss}\")"
      ],
      "metadata": {
        "id": "QKPIwGwFh4xs",
        "outputId": "2483d057-225a-46c9-88f0-c124ff07bc5c",
        "colab": {
          "base_uri": "https://localhost:8080/"
        }
      },
      "execution_count": 79,
      "outputs": [
        {
          "output_type": "stream",
          "name": "stdout",
          "text": [
            "6/6 [==============================] - 0s 3ms/step - loss: 0.4106 - accuracy: 0.8324\n",
            "Test Accuracy: 0.832402229309082\n",
            "Test Loss: 0.4106246829032898\n"
          ]
        }
      ]
    },
    {
      "cell_type": "code",
      "source": [
        "# Plotting the training and testing loss\n",
        "import matplotlib.pyplot as plt\n",
        "plt.plot(history.history['accuracy'])\n",
        "plt.plot(history.history['loss'])\n",
        "plt.title('Model loss')\n",
        "plt.ylabel('accuracy')\n",
        "plt.xlabel('Epoch')\n",
        "plt.legend(['Train', 'Validation'], loc='upper right')\n",
        "plt.show()\n"
      ],
      "metadata": {
        "id": "0Vw7qi9ViK9i",
        "outputId": "59790222-8d6a-4291-8ba2-26f7e70392c3",
        "colab": {
          "base_uri": "https://localhost:8080/",
          "height": 472
        }
      },
      "execution_count": 80,
      "outputs": [
        {
          "output_type": "display_data",
          "data": {
            "text/plain": [
              "<Figure size 640x480 with 1 Axes>"
            ],
            "image/png": "[encoded data removed]"
          },
          "metadata": {}
        }
      ]
    },
    {
      "cell_type": "code",
      "source": [
        "!pip install seaborn"
      ],
      "metadata": {
        "id": "NLmTdiYMs38g",
        "outputId": "1d8b85b9-8398-4b4e-f1a9-e2dfafda6b50",
        "colab": {
          "base_uri": "https://localhost:8080/"
        }
      },
      "execution_count": 92,
      "outputs": [
        {
          "output_type": "stream",
          "name": "stdout",
          "text": [
            "Requirement already satisfied: seaborn in /usr/local/lib/python3.10/dist-packages (0.13.1)\n",
            "Requirement already satisfied: numpy!=1.24.0,>=1.20 in /usr/local/lib/python3.10/dist-packages (from seaborn) (1.25.2)\n",
            "Requirement already satisfied: pandas>=1.2 in /usr/local/lib/python3.10/dist-packages (from seaborn) (1.5.3)\n",
            "Requirement already satisfied: matplotlib!=3.6.1,>=3.4 in /usr/local/lib/python3.10/dist-packages (from seaborn) (3.7.1)\n",
            "Requirement already satisfied: contourpy>=1.0.1 in /usr/local/lib/python3.10/dist-packages (from matplotlib!=3.6.1,>=3.4->seaborn) (1.2.0)\n",
            "Requirement already satisfied: cycler>=0.10 in /usr/local/lib/python3.10/dist-packages (from matplotlib!=3.6.1,>=3.4->seaborn) (0.12.1)\n",
            "Requirement already satisfied: fonttools>=4.22.0 in /usr/local/lib/python3.10/dist-packages (from matplotlib!=3.6.1,>=3.4->seaborn) (4.49.0)\n",
            "Requirement already satisfied: kiwisolver>=1.0.1 in /usr/local/lib/python3.10/dist-packages (from matplotlib!=3.6.1,>=3.4->seaborn) (1.4.5)\n",
            "Requirement already satisfied: packaging>=20.0 in /usr/local/lib/python3.10/dist-packages (from matplotlib!=3.6.1,>=3.4->seaborn) (24.0)\n",
            "Requirement already satisfied: pillow>=6.2.0 in /usr/local/lib/python3.10/dist-packages (from matplotlib!=3.6.1,>=3.4->seaborn) (9.4.0)\n",
            "Requirement already satisfied: pyparsing>=2.3.1 in /usr/local/lib/python3.10/dist-packages (from matplotlib!=3.6.1,>=3.4->seaborn) (3.1.2)\n",
            "Requirement already satisfied: python-dateutil>=2.7 in /usr/local/lib/python3.10/dist-packages (from matplotlib!=3.6.1,>=3.4->seaborn) (2.8.2)\n",
            "Requirement already satisfied: pytz>=2020.1 in /usr/local/lib/python3.10/dist-packages (from pandas>=1.2->seaborn) (2023.4)\n",
            "Requirement already satisfied: six>=1.5 in /usr/local/lib/python3.10/dist-packages (from python-dateutil>=2.7->matplotlib!=3.6.1,>=3.4->seaborn) (1.16.0)\n"
          ]
        }
      ]
    },
    {
      "cell_type": "code",
      "source": [
        "import pandas as pd\n",
        "import seaborn as sns\n",
        "import matplotlib.pyplot as plt\n",
        "from sklearn.metrics import multilabel_confusion_matrix, classification_report"
      ],
      "metadata": {
        "id": "t5sFZ7yMsHiE"
      },
      "execution_count": 107,
      "outputs": []
    },
    {
      "cell_type": "code",
      "source": [
        "# Generate Confusion Matrix plot\n",
        "plt.figure(figsize=(8, 6))\n",
        "sns.heatmap(data, annot=True, fmt='.2f', cmap='Blues', cbar=False, annot_kws={'size': 20})\n",
        "plt.xlabel('Predicted', size=15)\n",
        "plt.ylabel('Actual', size=15)\n",
        "plt.title('Confusion Matrix', size=18)\n",
        "plt.show()"
      ],
      "metadata": {
        "id": "R392NW-BvPah",
        "outputId": "2d6240eb-652c-4bf4-d174-5c1f9272e8c0",
        "colab": {
          "base_uri": "https://localhost:8080/",
          "height": 575
        }
      },
      "execution_count": 108,
      "outputs": [
        {
          "output_type": "display_data",
          "data": {
            "text/plain": [
              "<Figure size 800x600 with 1 Axes>"
            ],
            "image/png": "[encoded data removed]"
          },
          "metadata": {}
        }
      ]
    },
    {
      "cell_type": "markdown",
      "source": [
        "# Now we are checking our model on dedicated test data.\n",
        "\n",
        "The test.csv dataset contains similar information but does not disclose the “ground truth” for each passenger. It’s our job to predict these outcomes."
      ],
      "metadata": {
        "id": "J42cbbtOvj9C"
      }
    },
    {
      "cell_type": "code",
      "source": [
        "# Save the trained model\n",
        "model.save('titanic_model.h5')"
      ],
      "metadata": {
        "id": "Porf7-xjmwef"
      },
      "execution_count": 82,
      "outputs": []
    },
    {
      "cell_type": "code",
      "source": [
        "test_ds.columns"
      ],
      "metadata": {
        "id": "YXC-TkRzmwLM",
        "outputId": "e6b368ff-c9f2-4e73-f7da-634e2bb40211",
        "colab": {
          "base_uri": "https://localhost:8080/"
        }
      },
      "execution_count": 83,
      "outputs": [
        {
          "output_type": "execute_result",
          "data": {
            "text/plain": [
              "Index(['PassengerId', 'Pclass', 'Sex', 'Age', 'SibSp', 'Parch', 'Fare',\n",
              "       'Embarked', 'Deck', 'isAlone', 'isFamily', 'FamilySize', 'Title',\n",
              "       'AgeGroup', 'FarePerPerson'],\n",
              "      dtype='object')"
            ]
          },
          "metadata": {},
          "execution_count": 83
        }
      ]
    },
    {
      "cell_type": "code",
      "source": [
        "import pandas as pd\n",
        "from sklearn.preprocessing import StandardScaler\n",
        "from tensorflow.keras.models import load_model\n",
        "\n",
        "\n",
        "# List all feature column names used for model training, excluding 'Survived'\n",
        "features = [\n",
        "    'PassengerId', 'Pclass', 'Sex', 'Age', 'SibSp', 'Parch', 'Fare',\n",
        "       'Embarked', 'Deck', 'isAlone', 'isFamily', 'FamilySize', 'Title',\n",
        "       'AgeGroup', 'FarePerPerson'\n",
        "]\n",
        "\n",
        "# Scale the features\n",
        "scaler = StandardScaler()\n",
        "features_scaled = scaler.fit_transform(test_ds[features])\n",
        "\n",
        "# Load the trained model\n",
        "model = load_model('titanic_model.h5')  # Make sure to use the correct path to your saved model\n",
        "\n",
        "# Generate predictions for the test set\n",
        "predictions = (model.predict(features_scaled) > 0.5).astype(int).flatten()\n",
        "\n",
        "# Create a DataFrame with PassengerId and the predictions (Survived)\n",
        "results_df = pd.DataFrame({\n",
        "    'PassengerId': test_ds['PassengerId'],\n",
        "    'Survived': predictions\n",
        "})\n",
        "\n",
        "# Display the first few rows of the results to verify\n",
        "print(results_df.head())\n",
        "test_loss, test_accuracy = model.evaluate(X_test, y_test, verbose=1)\n",
        "print(f'Test Accuracy: {test_accuracy:.4f}')\n"
      ],
      "metadata": {
        "id": "zsRk8aGooiz8",
        "outputId": "ce4ffbea-52af-404e-a806-41f1d21e6a35",
        "colab": {
          "base_uri": "https://localhost:8080/"
        }
      },
      "execution_count": 85,
      "outputs": [
        {
          "output_type": "stream",
          "name": "stdout",
          "text": [
            "14/14 [==============================] - 0s 3ms/step\n",
            "   PassengerId  Survived\n",
            "0    -1.727912         0\n",
            "1    -1.719625         0\n",
            "2    -1.711337         0\n",
            "3    -1.703050         0\n",
            "4    -1.694763         0\n",
            "6/6 [==============================] - 0s 5ms/step - loss: 0.4106 - accuracy: 0.8324\n",
            "Test Accuracy: 0.8324\n"
          ]
        }
      ]
    },
    {
      "cell_type": "code",
      "source": [
        "# Save the DataFrame to a CSV file for submission\n",
        "results_file_path = 'titanic_predictions.csv'\n",
        "results_df.to_csv(results_file_path, index=False)"
      ],
      "metadata": {
        "id": "D30zycOEoikj"
      },
      "execution_count": 86,
      "outputs": []
    },
    {
      "cell_type": "markdown",
      "source": [
        "# I Check the Accuracy of titanic_predictions.csv file by uploading on Kaggle & I am getting around 75% Accuracy.![image.png](data:image/png;base64,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)\n",
        "\n"
      ],
      "metadata": {
        "id": "LkbI3lqfwHms"
      }
    }
  ]
}